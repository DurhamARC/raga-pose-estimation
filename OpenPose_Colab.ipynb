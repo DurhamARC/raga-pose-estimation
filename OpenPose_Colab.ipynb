{
  "nbformat": 4,
  "nbformat_minor": 0,
  "metadata": {
    "colab": {
      "name": "OpenPose for Martin Clayton.ipynb",
      "provenance": [],
      "collapsed_sections": [],
      "toc_visible": true,
      "include_colab_link": true
    },
    "kernelspec": {
      "name": "python3",
      "display_name": "Python 3"
    },
    "accelerator": "GPU"
  },
  "cells": [
    {
      "cell_type": "markdown",
      "metadata": {
        "id": "view-in-github",
        "colab_type": "text"
      },
      "source": [
        "<a href=\"https://colab.research.google.com/github/DurhamARC/openpose-music/blob/master/OpenPose_Colab.ipynb\" target=\"_parent\"><img src=\"https://colab.research.google.com/assets/colab-badge.svg\" alt=\"Open In Colab\"/></a>"
      ]
    },
    {
      "cell_type": "markdown",
      "metadata": {
        "id": "X38L6tanrnrB",
        "colab_type": "text"
      },
      "source": [
        "# Pose Detection with OpenPose\n",
        "\n",
        "This notebook uses an open source project [CMU-Perceptual-Computing-Lab/openpose](https://github.com/CMU-Perceptual-Computing-Lab/openpose.git) to detect/track multi person poses on a given youtube video.\n",
        "\n",
        "For other deep-learning Colab notebooks, visit [tugstugi/dl-colab-notebooks](https://github.com/tugstugi/dl-colab-notebooks).\n"
      ]
    },
    {
      "cell_type": "markdown",
      "metadata": {
        "id": "bbYVjlJikDEW",
        "colab_type": "text"
      },
      "source": [
        "##Install OpenPose"
      ]
    },
    {
      "cell_type": "code",
      "metadata": {
        "id": "FOdkDhb6ga6N",
        "colab_type": "code",
        "colab": {}
      },
      "source": [
        "import os\n",
        "from os.path import exists, join, basename, splitext\n",
        "\n",
        "git_repo_url = 'https://github.com/CMU-Perceptual-Computing-Lab/openpose.git'\n",
        "project_name = splitext(basename(git_repo_url))[0]\n",
        "!rm -rf openpose\n",
        "if not exists(project_name):\n",
        "  # see: https://github.com/CMU-Perceptual-Computing-Lab/openpose/issues/949\n",
        "  # install new CMake becaue of CUDA10\n",
        "  !wget -q https://cmake.org/files/v3.17/cmake-3.17.2-Linux-x86_64.tar.gz\n",
        "  !tar xfz cmake-3.17.2-Linux-x86_64.tar.gz --strip-components=1 -C /usr/local\n",
        "  # clone openpose\n",
        "  !git clone -q --depth 1 $git_repo_url\n",
        "  # --recursive necessary in the line below, as otherwise you can (sometimes) get \"lpthreads\" errors in cmake (\"undefined reference to `pthread_create'\" etc). See, for example, https://github.com/facebookarchive/caffe2/issues/1234\n",
        "  !sed -i 's/execute_process(COMMAND git checkout --recursive master WORKING_DIRECTORY ${CMAKE_SOURCE_DIR}\\/3rdparty\\/caffe)/execute_process(COMMAND git checkout f019d0dfe86f49d1140961f8c7dec22130c83154 WORKING_DIRECTORY ${CMAKE_SOURCE_DIR}\\/3rdparty\\/caffe)/g' openpose/CMakeLists.txt\n",
        "  # install system dependencies\n",
        "  !apt-get -qq install -y libatlas-base-dev libprotobuf-dev libleveldb-dev libsnappy-dev libhdf5-serial-dev protobuf-compiler libgflags-dev libgoogle-glog-dev liblmdb-dev opencl-headers ocl-icd-opencl-dev libviennacl-dev\n",
        "  # build openpose\n",
        "  # CUDA\n",
        "  !cd openpose && rm -rf build || true && mkdir build && cd build && cmake -DBUILD_PYTHON=ON .. && make -j`nproc`\n",
        "  # CPU \n",
        "  #!cd openpose && rm -rf build || true && mkdir build && cd build && cmake -DBUILD_PYTHON=ON -DGPU_MODE=CPU_ONLY -DUSE_MKL=OFF .. && make -j`nproc`\n",
        "\n"
      ],
      "execution_count": 0,
      "outputs": []
    },
    {
      "cell_type": "markdown",
      "metadata": {
        "id": "W8pSrewDiPNT",
        "colab_type": "text"
      },
      "source": [
        "##Tests"
      ]
    },
    {
      "cell_type": "markdown",
      "metadata": {
        "id": "R_kvTjRLkXUM",
        "colab_type": "text"
      },
      "source": [
        "###Run Python API test examples"
      ]
    },
    {
      "cell_type": "code",
      "metadata": {
        "id": "8FpYHzzb9H6Q",
        "colab_type": "code",
        "colab": {}
      },
      "source": [
        "!pwd\n",
        "print(\"Running Python API example.\")\n",
        "print(\"The imshow command in that example will lead to a 'cannot connect to X server' error in the end, which can be supressed by changing it to imwrite, for example.\")\n",
        "!cd openpose/build/examples/tutorial_api_python && python3 01_body_from_image.py\n",
        "print(\"Another example.\")\n",
        "!cd openpose/build/examples/tutorial_api_python && python3 06_face_from_image.py\n",
        "print(\"And another.\")\n",
        "!cd openpose/build/examples/tutorial_api_python && python3 09_keypoints_from_heatmaps.py"
      ],
      "execution_count": 0,
      "outputs": []
    },
    {
      "cell_type": "markdown",
      "metadata": {
        "id": "n5L3Z5YVrZ2R",
        "colab_type": "text"
      },
      "source": [
        "### Detect poses on a test video"
      ]
    },
    {
      "cell_type": "markdown",
      "metadata": {
        "id": "S9vzX4hL-b1G",
        "colab_type": "text"
      },
      "source": [
        "Download video from Dropbox"
      ]
    },
    {
      "cell_type": "code",
      "metadata": {
        "id": "68q44LJN-uxK",
        "colab_type": "code",
        "colab": {}
      },
      "source": [
        "!rm -rf full_video.mp4\n",
        "videolink=\"https://www.dropbox.com/sh/fcbe7ebrvuutfgh/AABP8D9S1CPbLH__AOgqSkKTa/Apoorva_experiment_clips/Apoorva_raga_3a_muted.mp4?dl=0\"\n",
        "#videolink=\"https://www.dropbox.com/sh/fcbe7ebrvuutfgh/AACEKKDfkyN4vEgLJWZiGqYra/Raga%20edited%20clips/1a.mp4?dl=0\"\n",
        "!wget -O full_video.mp4 $videolink "
      ],
      "execution_count": 0,
      "outputs": []
    },
    {
      "cell_type": "markdown",
      "metadata": {
        "id": "Kn08K-3bp-W9",
        "colab_type": "text"
      },
      "source": [
        "Access the video, cut the first 5 seconds and do the pose detection on that 5 seconds:"
      ]
    },
    {
      "cell_type": "code",
      "metadata": {
        "id": "oNASdyyiO65I",
        "colab_type": "code",
        "colab": {}
      },
      "source": [
        "!rm -rf video.mp4\n",
        "# cut the first 5 seconds\n",
        "!ffmpeg -y -loglevel info -i \"full_video.mp4\" -t 5 video.mp4\n",
        "# detect poses on the these 5 seconds\n",
        "!rm -f openpose.avi\n",
        "!cd openpose && ./build/examples/openpose/openpose.bin --video ../video.mp4 --write_json ./output/ --display 0 --part-candidates --write_video ../openpose.avi\n",
        "# convert the result into MP4\n",
        "!ffmpeg -y -loglevel info -i openpose.avi output.mp4"
      ],
      "execution_count": 0,
      "outputs": []
    },
    {
      "cell_type": "markdown",
      "metadata": {
        "id": "kDDkgCCSrFTv",
        "colab_type": "text"
      },
      "source": [
        "Finally, visualize the result:"
      ]
    },
    {
      "cell_type": "code",
      "metadata": {
        "id": "9xTSn2UVfjmm",
        "colab_type": "code",
        "colab": {}
      },
      "source": [
        "import numpy as np\n",
        "import os\n",
        "import cv2\n",
        "import json\n",
        "print('OpenCV - version: ',cv2.__version__)\n",
        "import pandas as pd\n",
        "\n",
        "# video file\n",
        "cap = cv2.VideoCapture('video.mp4')\n",
        "\n",
        "def get_vid_properties(): \n",
        "    width = int(cap.get(3))  # float\n",
        "    height = int(cap.get(4)) # float\n",
        "    cap.release()\n",
        "    return width,height\n",
        "  \n",
        "print('Video Dimensions: ',get_vid_properties())\n",
        "\n",
        "# Load keypoint data from JSON output\n",
        "column_names = ['x', 'y', 'acc']\n",
        "\n",
        "# Paths - should be the folder where Open Pose JSON output was stored\n",
        "path_to_json = \"openpose/output/\"\n",
        "\n",
        "# Import Json files, pos_json = position JSON\n",
        "json_files = [pos_json for pos_json in os.listdir(path_to_json) if pos_json.endswith('.json')]\n",
        "print('Found: ',len(json_files),'json keypoint frame files')\n",
        "count = 0\n",
        "\n",
        "width,height = get_vid_properties()\n",
        "\n",
        "# instanciate dataframes \n",
        "body_keypoints_df = pd.DataFrame()\n",
        "left_shoulder_df = pd.DataFrame()\n",
        "left_elbow_df = pd.DataFrame()\n",
        "\n",
        "print('json files: ',json_files[0])   \n",
        "\n",
        "# Loop through all json files in output directory\n",
        "# Each file is a frame in the video\n",
        "# If multiple people are detected - choose the most centered high confidence points\n",
        "for file in json_files:\n",
        "\n",
        "    temp_df = json.load(open(path_to_json+file))\n",
        "    temp = []\n",
        "    for k,v in temp_df['part_candidates'][0].items():\n",
        "        \n",
        "        # Single point detected\n",
        "        if len(v) < 4:\n",
        "            temp.append(v)\n",
        "            #print('Extracted highest confidence points: ',v)\n",
        "            \n",
        "        # Multiple points detected\n",
        "        elif len(v) > 4: \n",
        "            near_middle = width\n",
        "            np_v = np.array(v)\n",
        "            \n",
        "            # Reshape to x,y,confidence\n",
        "            np_v_reshape = np_v.reshape(int(len(np_v)/3),3)\n",
        "            np_v_temp = []\n",
        "            # compare x values\n",
        "            for pt in np_v_reshape:\n",
        "                if(np.absolute(pt[0]-width/2)<near_middle):\n",
        "                    near_middle = np.absolute(pt[0]-width/2)\n",
        "                    np_v_temp = list(pt)\n",
        "         \n",
        "            temp.append(np_v_temp)\n",
        "            #print('Extracted highest confidence points: ',np_v_temp)\n",
        "        else:\n",
        "            # No detection - record zeros\n",
        "            temp.append([0,0,0])\n",
        "            \n",
        "    temp_df = pd.DataFrame(temp)\n",
        "    temp_df = temp_df.fillna(0)\n",
        "    #print(temp_df)\n",
        "\n",
        "    try:\n",
        "        prev_temp_df = temp_df\n",
        "        body_keypoints_df= body_keypoints_df.append(temp_df)\n",
        "        left_shoulder_df = left_shoulder_df.append(temp_df.iloc[5].astype(int))\n",
        "        left_elbow_df = left_elbow_df.append(temp_df.iloc[6].astype(int))\n",
        "\n",
        "    except:\n",
        "        print('bad point set at: ', file)\n",
        "        \n",
        "body_keypoints_df.columns = column_names\n",
        "left_shoulder_df.columns = column_names\n",
        "left_elbow_df.columns = column_names\n",
        "\n",
        "body_keypoints_df.reset_index()\n",
        "left_shoulder_df = left_shoulder_df.reset_index(drop = True)\n",
        "left_elbow_df = left_elbow_df.reset_index(drop = True)\n",
        "\n",
        "print('length of merged keypoint set: ',body_keypoints_df.size)\n",
        "\n",
        "print(left_shoulder_df.head())\n",
        "print(left_elbow_df.head())"
      ],
      "execution_count": 0,
      "outputs": []
    },
    {
      "cell_type": "code",
      "metadata": {
        "id": "nZ3Ud9zLgOoQ",
        "colab_type": "code",
        "colab": {}
      },
      "source": [
        "def show_local_mp4_video(file_name, width=640, height=480):\n",
        "  import io\n",
        "  import base64\n",
        "  from IPython.display import HTML\n",
        "  video_encoded = base64.b64encode(io.open(file_name, 'rb').read())\n",
        "  return HTML(data='''<video width=\"{0}\" height=\"{1}\" alt=\"test\" controls>\n",
        "                        <source src=\"data:video/mp4;base64,{2}\" type=\"video/mp4\" />\n",
        "                      </video>'''.format(width, height, video_encoded.decode('ascii'))) \n",
        "\n",
        "show_local_mp4_video('output.mp4', width=960, height=720)"
      ],
      "execution_count": 0,
      "outputs": []
    }
  ]
}
