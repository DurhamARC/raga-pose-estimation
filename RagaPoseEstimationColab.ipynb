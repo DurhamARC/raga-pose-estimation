{
  "cells": [
    {
      "cell_type": "markdown",
      "metadata": {
        "colab_type": "text",
        "id": "view-in-github"
      },
      "source": [
        "<a href=\"https://colab.research.google.com/github/DurhamARC/raga-pose-estimation/blob/master/RagaPoseEstimationColab.ipynb\"\n",
        "target=\"_parent\"><img src=\"https://colab.research.google.com/assets/colab-badge.svg\" alt=\"Open In Colab\"/></a>"
      ]
    },
    {
      "cell_type": "markdown",
      "metadata": {
        "id": "X38L6tanrnrB"
      },
      "source": [
        "# Pose Detection with OpenPose\n",
        "\n",
        "This notebook uses an open source project [CMU-Perceptual-Computing-Lab/openpose](https://github.com/CMU-Perceptual-Computing-Lab/openpose.git) to detect/track multi person poses on a given video.\n",
        "\n",
        "Please read the [OpenPose license](https://github.com/CMU-Perceptual-Computing-Lab/openpose/blob/master/LICENSE) before running this script.\n"
      ]
    },
    {
      "cell_type": "markdown",
      "metadata": {
        "id": "bbYVjlJikDEW"
      },
      "source": [
        "##Install OpenPose"
      ]
    },
    {
      "cell_type": "code",
      "execution_count": null,
      "metadata": {
        "cellView": "form",
        "id": "FOdkDhb6ga6N"
      },
      "outputs": [],
      "source": [
        "#@title\n",
        "!pip install ffmpeg-python\n",
        "import os\n",
        "from os.path import exists, join, basename, splitext\n",
        "\n",
        "def show_local_mp4_video(file_name, width=640, height=480):\n",
        "  import io\n",
        "  import base64\n",
        "  from IPython.display import HTML\n",
        "  video_encoded = base64.b64encode(io.open(file_name, 'rb').read())\n",
        "  return HTML(data='''<video width=\"{0}\" height=\"{1}\" alt=\"test\" controls>\n",
        "                        <source src=\"data:video/mp4;base64,{2}\" type=\"video/mp4\" />\n",
        "                      </video>'''.format(width, height, video_encoded.decode('ascii'))) \n",
        "\n",
        "\n",
        "git_repo_url = 'https://github.com/CMU-Perceptual-Computing-Lab/openpose.git'\n",
        "project_name = splitext(basename(git_repo_url))[0]\n",
        "!rm -rf openpose\n",
        "if not exists(project_name):\n",
        "  # see: https://github.com/CMU-Perceptual-Computing-Lab/openpose/issues/949\n",
        "  # install new CMake becaue of CUDA10\n",
        "  !wget -q https://cmake.org/files/v3.17/cmake-3.17.2-Linux-x86_64.tar.gz\n",
        "  !tar xfz cmake-3.17.2-Linux-x86_64.tar.gz --strip-components=1 -C /usr/local\n",
        "  # clone openpose\n",
        "  !git clone -q --depth 1 $git_repo_url\n",
        "  # --recursive necessary in the line below, as otherwise you can (sometimes) get \"lpthreads\" errors in cmake (\"undefined reference to `pthread_create'\" etc). See, for example, https://github.com/facebookarchive/caffe2/issues/1234\n",
        "  !sed -i 's/execute_process(COMMAND git checkout --recursive master WORKING_DIRECTORY ${CMAKE_SOURCE_DIR}\\/3rdparty\\/caffe)/execute_process(COMMAND git checkout f019d0dfe86f49d1140961f8c7dec22130c83154 WORKING_DIRECTORY ${CMAKE_SOURCE_DIR}\\/3rdparty\\/caffe)/g' openpose/CMakeLists.txt\n",
        "  !cd openpose && git submodule update --init --recursive --remote\n",
        "  # install system dependencies\n",
        "  !apt-get -qq install -y libatlas-base-dev libprotobuf-dev libleveldb-dev libsnappy-dev libhdf5-serial-dev protobuf-compiler libgflags-dev libgoogle-glog-dev liblmdb-dev opencl-headers ocl-icd-opencl-dev libviennacl-dev\n",
        "  # build openpose\n",
        "  # CUDA\n",
        "  #!cd openpose && rm -rf build || true && mkdir build && cd build && cmake .. && make -j`nproc` \n",
        "  #!cd openpose && rm -rf build || true && mkdir build && cd build && cmake .. && make -j`nproc` \n",
        "  # CPU \n",
        "  !cd openpose && rm -rf build || true && mkdir build && cd build && cmake -DGPU_MODE=CPU_ONLY -DUSE_MKL=OFF .. && make -j`nproc`"
      ]
    },
    {
      "cell_type": "markdown",
      "metadata": {
        "id": "UPIohYCy_zO9"
      },
      "source": [
        "Workaround for server problem (run if you see `file DOWNLOAD HASH mismatch` in the previous output):"
      ]
    },
    {
      "cell_type": "code",
      "execution_count": null,
      "metadata": {
        "cellView": "form",
        "id": "bRRMCiq9_4UE"
      },
      "outputs": [],
      "source": [
        "#@title\n",
        "# Workaround for server connection problem (\"file DOWNLOAD HASH mismatch\"),see, e.g., \n",
        "# https://github.com/CMU-Perceptual-Computing-Lab/openpose/issues/1602#issuecomment-641653411\n",
        "\n",
        "!apt-get install unzip\n",
        "\n",
        "!wget -O models.zip  --no-check-certificate -r 'https://drive.google.com/uc?id=1QCSxJZpnWvM00hx49CJ2zky7PWGzpcEh&export=download'\n",
        "!unzip -o models.zip -d openpose"
      ]
    },
    {
      "cell_type": "markdown",
      "metadata": {
        "id": "9xY_jBRwLu3-"
      },
      "source": [
        "## Processing\n",
        "Optionally run OpenPose, then do post-processing which can include visualisations.\n",
        "\n"
      ]
    },
    {
      "cell_type": "markdown",
      "metadata": {
        "id": "8DP9toALJerm"
      },
      "source": [
        "### Preparation\n",
        "\n",
        "Check out the raga-pose-estimation module from github."
      ]
    },
    {
      "cell_type": "code",
      "execution_count": null,
      "metadata": {
        "cellView": "form",
        "colab": {
          "base_uri": "https://localhost:8080/"
        },
        "id": "BVOZz1sqV1KU",
        "outputId": "70384d97-4fe2-423a-ce08-74775a64856a",
        "scrolled": true
      },
      "outputs": [],
      "source": [
        "!git clone https://github.com/DurhamARC/raga-pose-estimation.git raga-pose-estimation\n",
        "!pip install pymediainfo\n",
        "!apt-get install libmediainfo0v5\n",
        "\n",
        "branch = input('Enter the branch to check out (defaults to master): ') or 'master'\n",
        "!cd raga-pose-estimation && git checkout $branch"
      ]
    },
    {
      "cell_type": "markdown",
      "metadata": {
        "id": "vSu5LSLWJW8R"
      },
      "source": [
        "### Upload files\n",
        "\n",
        "If your video or JSON files are not available via a public URL, use the Files menu on the left to upload them. You can then copy their path by hovering, clicking on the three dots, and selecting **Copy path**."
      ]
    },
    {
      "cell_type": "markdown",
      "metadata": {
        "id": "OtZZCloD1HUp"
      },
      "source": [
        "### Process\n",
        "\n",
        "The next cell generates a form which you can use to run OpenPose on a video followed by post-processing, or just do the post-processing on a directory of JSON files produced by OpenPose.\n",
        "\n",
        "#### Options\n",
        "\n",
        "| Option  |  Description |\n",
        "|---|---|\n",
        "| Output directory | Path to the directory in which to output CSV |\n",
        "| OpenPose directory | Path to the directory in which openpose is installed. |\n",
        "| OpenPose arguments | Additional arguments to pass to OpenPose. See the [OpenPose flags](https://github.com/CMU-Perceptual-Computing-Lab/openpose/blob/master/include/openpose/flags.hpp) for details. |\n",
        "| Input video | Path to the video file on which to run openpose.<br>Can be a remote URL, e.g. from the [Dropbox folder](https://www.dropbox.com/sh/fcbe7ebrvuutfgh/AACAe78sSZRMjFhJQAq1wM-Ra?dl=0).<br>To use a specific video, navigate to the respective subfolder on Dropbox, right-click on the video and choose \"copy link location\". Then paste in the field below. |\n",
        "| Crop video | Whether to crop the video before processing. |\n",
        "| Crop width<br>Crop height<br>Crop top left x<br>Crop top left y | Parameters for cropping the video before processing.<br>(x,y) are the coordinates of the top-left of the cropped rectangle, as measured in pixels from the top-left corner.<br>You can click **Preview Crop** to preview the crop rectangle on the first frame of the video. |\n",
        "| Input JSON | Path to a directory of previously generated openpose JSON files.<br>Can be a remote URL to a zipped file. |\n",
        "| Input Folder for Batch Files | Path to a directory of directories with previously generated openpose JSON files.<br>Can be a remote URL to a zipped file. |\n",
        "| Number of people | Number of people to include in output |\n",
        "| Perfomer Names | Names of performers from left to right |\n",
        "| Create model video | Whether to create a video showing the poses on a blank background |\n",
        "| Create overlay video | Whether to create a video showing the poses as an overlay |\n",
        "| Download results | Whether to download the zipped results |\n",
        "| width | Width of original video (mandatory for creating video if  not providing input-video) |\n",
        "| height | Height of original video (mandatory for creating video if  not providing input-video) |\n",
        "| Confidence threshold | Items with a confidence lower than the threshold will be replaced by values from a previous frame. |\n",
        "| Smoothing parameters | If set, applies a smoother to the OpenPose output. <br>(See [README](README.md) for more details.) |\n",
        "| Group of body parts to analyse | Group of body parts to include in output.<br>If \"Choose...\" is selected you will be able to select the individual parts in *Body parts to analyse* |\n",
        "| Body parts to analyse | Body parts to include in output. Use `Ctrl` or `Cmd` to select multiple. |\n",
        "| Flatten |Export CSV in flattened format, i.e. with a single header row.<br>(See [README](README.md) for more details.) |\n",
        "\n",
        "Run the first cell to generate a form. Once you have filled in the form, click \"Generate parameters\", then run the next cell.\n"
      ]
    },
    {
      "cell_type": "code",
      "execution_count": null,
      "metadata": {
        "cellView": "form",
        "id": "9YtiQc0Hz5ag"
      },
      "outputs": [],
      "source": [
        "#@title\n",
        "from datetime import datetime\n",
        "import os\n",
        "import sys\n",
        "import tempfile\n",
        "import urllib\n",
        "import urllib.request\n",
        "\n",
        "import cv2\n",
        "from google.colab import files, output\n",
        "from google.colab.patches import cv2_imshow\n",
        "import ipywidgets as widgets\n",
        "\n",
        "sys.path.append(os.path.join(os.getcwd(), 'raga-pose-estimation'))\n",
        "\n",
        "import run_pose_estimation\n",
        "\n",
        "from raga_pose_estimation.openpose_parts import (\n",
        "    OpenPosePartGroups,\n",
        "    OpenPoseParts,\n",
        ")\n",
        "\n",
        "def default_dirname(prefix='output'):\n",
        "    dirname = datetime.now().strftime('%Y-%m-%d_%H%M%S')\n",
        "    return f'{prefix}/{dirname}'\n",
        "\n",
        "output_dir = default_dirname()\n",
        "\n",
        "style = {'description_width': '200px'}\n",
        "layout = {'width': '400px'}\n",
        "\n",
        "items = {\n",
        "    'output_dir': widgets.Text(\n",
        "        value=output_dir,\n",
        "        description='Output directory',\n",
        "        style=style, \n",
        "        layout=layout\n",
        "    ),\n",
        "    'openpose_dir': widgets.Text(\n",
        "        value='openpose',\n",
        "        description='OpenPose directory',\n",
        "        style=style, \n",
        "        layout=layout\n",
        "    ),\n",
        "    'openpose_args': widgets.Text(\n",
        "        value='',\n",
        "        description='Additional OpenPose arguments',\n",
        "        style=style, \n",
        "        layout=layout\n",
        "    ),\n",
        "    'input_video': widgets.Text(\n",
        "        value='',\n",
        "        description='Input video',\n",
        "        style=style, \n",
        "        layout=layout\n",
        "    ),\n",
        "    'crop_video': widgets.Checkbox(\n",
        "        value=False,\n",
        "        description='Crop video',\n",
        "        style=style,\n",
        "        layout=layout\n",
        "    ),\n",
        "    'crop_video_w': widgets.BoundedIntText(\n",
        "        value=None,\n",
        "        description='Crop width',\n",
        "        style=style, \n",
        "        layout=layout,\n",
        "        disabled=True,\n",
        "        min=1,\n",
        "        max=100000\n",
        "    ),\n",
        "    'crop_video_h': widgets.BoundedIntText(\n",
        "        value=None,\n",
        "        description='Crop height',\n",
        "        style=style, \n",
        "        layout=layout,\n",
        "        disabled=True,\n",
        "        min=1,\n",
        "        max=100000\n",
        "    ),\n",
        "    'crop_video_x': widgets.BoundedIntText(\n",
        "        value=None,\n",
        "        description='Crop top left x',\n",
        "        style=style, \n",
        "        layout=layout,\n",
        "        disabled=True,\n",
        "        min=0,\n",
        "        max=100000\n",
        "    ),\n",
        "    'crop_video_y': widgets.BoundedIntText(\n",
        "        value=None,\n",
        "        description='Crop top left y',\n",
        "        style=style, \n",
        "        layout=layout,\n",
        "        disabled=True,\n",
        "        min=0,\n",
        "        max=100000\n",
        "    ),\n",
        "    'crop_preview': widgets.Button(\n",
        "        value=None,\n",
        "        description='Preview crop',\n",
        "        style=style, \n",
        "        layout=layout\n",
        "    ),\n",
        "    'input_json': widgets.Text(\n",
        "        value='',\n",
        "        description='Input JSON',\n",
        "        style=style, \n",
        "        layout=layout\n",
        "    ),\n",
        "    'batch_input_folder': widgets.Text(\n",
        "        value='',\n",
        "        description='Input Folder For Batch Files',\n",
        "        style=style, \n",
        "        layout=layout\n",
        "    ),\n",
        "    'number_of_people': widgets.IntSlider(\n",
        "        value=1,\n",
        "        min=1,\n",
        "        max=10,\n",
        "        step=1,\n",
        "        description='Number of people',\n",
        "        style=style, \n",
        "        layout=layout\n",
        "    ),\n",
        "    'performer_names': widgets.Text(\n",
        "        value=\"Left, Center, Right\",\n",
        "        description='Performer Names',\n",
        "        style=style, \n",
        "        layout=layout\n",
        "    ),\n",
        "    'create_model_video': widgets.Checkbox(\n",
        "        value=False,\n",
        "        description='Create model video',\n",
        "        style=style, \n",
        "        layout=layout\n",
        "    ),\n",
        "    'create_overlay_video': widgets.Checkbox(\n",
        "        value=False,\n",
        "        description='Create overlay video',\n",
        "        style=style, \n",
        "        layout=layout\n",
        "    ),\n",
        "    'download_results': widgets.Checkbox(\n",
        "        value=False,\n",
        "        description='Download results',\n",
        "        style=style, \n",
        "        layout=layout\n",
        "    ),\n",
        "    'width': widgets.IntText(\n",
        "        value=0,\n",
        "        description='Width of video',\n",
        "        style=style\n",
        "    ),\n",
        "    'height': widgets.IntText(\n",
        "        value=0,\n",
        "        description='Height of video',\n",
        "        style=style\n",
        "    ),\n",
        "    'confidence_threshold': widgets.FloatSlider(\n",
        "        value=0.0,\n",
        "        min=0,\n",
        "        max=1.0,\n",
        "        step=0.05,\n",
        "        description='Confidence Threshold',\n",
        "        style=style, \n",
        "        layout=layout\n",
        "    ),\n",
        "    'apply_smoother': widgets.Checkbox(\n",
        "        value=False,\n",
        "        description='Apply smoother',\n",
        "        style=style, \n",
        "        layout=layout\n",
        "    ),\n",
        "    'smoothing_window': widgets.IntSlider(\n",
        "        value=21,\n",
        "        min=1,\n",
        "        max=51,\n",
        "        step=2,\n",
        "        description='Smoothing window',\n",
        "        style=style, \n",
        "        layout=layout\n",
        "    ),\n",
        "    'smoothing_polyorder': widgets.IntSlider(\n",
        "        value=2,\n",
        "        min=1,\n",
        "        max=12,\n",
        "        step=1,\n",
        "        description='Smoothing polynomial order',\n",
        "        style=style, \n",
        "        layout=layout\n",
        "    ),\n",
        "    'body_part_group': widgets.RadioButtons(\n",
        "        options=[\n",
        "            ('All', list(OpenPoseParts)),\n",
        "            ('Upper', OpenPosePartGroups.UPPER_BODY_PARTS),\n",
        "            ('Lower', OpenPosePartGroups.LOWER_BODY_PARTS),\n",
        "            ('Choose...', [])\n",
        "        ],\n",
        "        value=list(OpenPoseParts),\n",
        "        description='Group of body parts to analyse',\n",
        "        disabled=False,\n",
        "        style=style, \n",
        "        layout=layout\n",
        "    ),\n",
        "    'body_parts': widgets.SelectMultiple(\n",
        "        options=[(x.value, x) for x in list(OpenPoseParts)],\n",
        "        value=list(OpenPoseParts),\n",
        "        description='Body parts to analyse',\n",
        "        disabled=True,\n",
        "        style=style, \n",
        "        layout=layout\n",
        "    ),\n",
        "    'flatten': widgets.Checkbox(\n",
        "        value=False,\n",
        "        description='Flatten CSV output',\n",
        "        style=style, \n",
        "        layout=layout\n",
        "    ),\n",
        "    'trial_name': widgets.Text(\n",
        "        value='',\n",
        "        description='Trial Name',\n",
        "        style=style, \n",
        "        layout=layout\n",
        "    ),\n",
        "    'run': widgets.Button(\n",
        "        description='Generate parameters',\n",
        "        disabled=False,\n",
        "        style=style,\n",
        "        layout=layout,\n",
        "        tooltip='Generate parameters for openpose or post-processing',\n",
        "        icon='check'\n",
        "    ),\n",
        "    'output': widgets.Output(layout={'border': '1px solid gray'})\n",
        "}\n",
        "\n",
        "def update_body_parts(*args):\n",
        "    if items['body_part_group'].value == []:\n",
        "        items['body_parts'].disabled = False\n",
        "    else:\n",
        "        items['body_parts'].disabled = True\n",
        "        items['body_parts'].value = items['body_part_group'].value\n",
        "\n",
        "def update_smoother(*args):\n",
        "    if items['apply_smoother'].value == True:\n",
        "        items['smoothing_window'].disabled = False\n",
        "        items['smoothing_polyorder'].disabled = False\n",
        "    else:\n",
        "        items['smoothing_window'].disabled = True\n",
        "        items['smoothing_polyorder'].disabled = True\n",
        "\n",
        "def get_input_path(path_or_url, compressed=False):\n",
        "    if path_or_url is None:\n",
        "        return None\n",
        "    \n",
        "    parsed = urllib.parse.urlparse(path_or_url)\n",
        "    input_dir = default_dirname('input')\n",
        "\n",
        "    if parsed.scheme == \"\":\n",
        "        filepath = path_or_url\n",
        "    else:\n",
        "        print(parsed.query)\n",
        "        if parsed.query == 'dl=0':\n",
        "            # Dropbox URL - change to dl=1 to download directly\n",
        "            replaced = parsed._replace(query='dl=1')\n",
        "            path_or_url = urllib.parse.urlunparse(replaced)\n",
        "\n",
        "        print(f\"Retrieving file from {path_or_url}\")\n",
        "        filename = parsed.path.rsplit('/', 1)[1]\n",
        "        os.makedirs(input_dir, exist_ok=True)\n",
        "        filepath = f\"{input_dir}/{filename}\"\n",
        "        urllib.request.urlretrieve(path_or_url, filepath)\n",
        "\n",
        "    if compressed:\n",
        "        os.makedirs(input_dir, exist_ok=True) \n",
        "        with file(filepath,'r') as f:\n",
        "          if zipfile.is_zipfile(f):\n",
        "              zip = zipfile.ZipFile(f)\n",
        "              zip.extractall(input_dir)\n",
        "              filepath = input_dir\n",
        "\n",
        "    return filepath\n",
        "  \n",
        "def update_crop_params(*args):\n",
        "    if items['crop_video'].value == True:\n",
        "        items['crop_video_w'].disabled = False\n",
        "        items['crop_video_h'].disabled = False\n",
        "        items['crop_video_x'].disabled = False\n",
        "        items['crop_video_y'].disabled = False\n",
        "        items['crop_preview'].disabled = False\n",
        "    else:\n",
        "        items['crop_video_w'].disabled = True\n",
        "        items['crop_video_h'].disabled = True\n",
        "        items['crop_video_x'].disabled = True\n",
        "        items['crop_video_y'].disabled = True\n",
        "        items['crop_preview'].disabled = True\n",
        "\n",
        "def preview_crop(*args):\n",
        "  output.clear()\n",
        "  display(ui)\n",
        "  input_video = get_input_path(items['input_video'].value or None)\n",
        "  crop_video = items['crop_video'].value\n",
        "  w = items['crop_video_w'].value\n",
        "  h = items['crop_video_h'].value\n",
        "  x = items['crop_video_x'].value\n",
        "  y = items['crop_video_y'].value\n",
        "    \n",
        "  if input_video and crop_video:\n",
        "    cap = cv2.VideoCapture(input_video)\n",
        "    ret, frame = cap.read()\n",
        "    cap.release()\n",
        "    frame = cv2.rectangle(frame,(x, y),(x+w,y+h),(0,255,0),2)\n",
        "    cv2_imshow(frame)\n",
        "\n",
        "\n",
        "run_pose_estimation_params = {}\n",
        "\n",
        "def on_button_clicked(b):\n",
        "    global run_pose_estimation_params\n",
        "    items['output'].clear_output()\n",
        "    with items['output']:\n",
        "        try:\n",
        "            if not items['output_dir'].value:\n",
        "                print(\"You must select an output directory.\")\n",
        "            else:\n",
        "                input_video = get_input_path(items['input_video'].value or None)\n",
        "                input_json = get_input_path(items['input_json'].value or None)\n",
        "                smoothing_parameters = None\n",
        "                if items['apply_smoother'].value == True:\n",
        "                  smoothing_parameters = (items['smoothing_window'].value,\n",
        "                                          items['smoothing_polyorder'].value)\n",
        "                \n",
        "                crop_rectangle = None\n",
        "                if items['crop_video'].value:\n",
        "                  crop_rectangle = (\n",
        "                      items['crop_video_w'].value,\n",
        "                      items['crop_video_h'].value,\n",
        "                      items['crop_video_x'].value,\n",
        "                      items['crop_video_y'].value\n",
        "                  )\n",
        "\n",
        "                run_pose_estimation_params = {\n",
        "                    'output_dir': items['output_dir'].value,\n",
        "                    'openpose_dir': items['openpose_dir'].value or None,\n",
        "                    'openpose_args': items['openpose_args'].value or None,\n",
        "                    'input_video': input_video,\n",
        "                    'input_json': input_json,\n",
        "                    'crop_rectangle': crop_rectangle,\n",
        "                    'number_of_people': items['number_of_people'].value,\n",
        "                    'create_model_video': items['create_model_video'].value,\n",
        "                    'create_overlay_video': items['create_overlay_video'].value,\n",
        "                    'width': items['width'].value,\n",
        "                    'height': items['height'].value,\n",
        "                    'confidence_threshold': items['confidence_threshold'].value,\n",
        "                    'smoothing_parameters': smoothing_parameters,\n",
        "                    'body_parts': items['body_parts'].value,\n",
        "                    'flatten': items['flatten'].value,\n",
        "                    'trial_name': items['trial_name'].value,\n",
        "                    'performer_names': items['performer_names'].value.strip().split(\",\")\n",
        "                }\n",
        "                print(\"Parameters saved. Run the next cell to execute run_pose_estimation.\")\n",
        "        except SystemExit:\n",
        "            print('Aborted.')\n",
        "    \n",
        "items['body_part_group'].observe(update_body_parts, 'value')\n",
        "items['apply_smoother'].observe(update_smoother, 'value')\n",
        "items['crop_video'].observe(update_crop_params, 'value')\n",
        "items['crop_preview'].on_click(preview_crop)\n",
        "items['run'].on_click(on_button_clicked)\n",
        "\n",
        "ui = widgets.VBox(list(items.values()))\n",
        "display(ui)\n"
      ]
    },
    {
      "cell_type": "markdown",
      "metadata": {
        "id": "KuU8DUZx7NBg"
      },
      "source": [
        "Run the next cell to run openpose/post-processing."
      ]
    },
    {
      "cell_type": "code",
      "execution_count": null,
      "metadata": {
        "cellView": "form",
        "id": "cqvk3MNErRLm"
      },
      "outputs": [],
      "source": [
        "#@title\n",
        "print(\"Running openpose/post-processing...\")\n",
        "try:\n",
        "  # Run openpose\n",
        "  run_pose_estimation.run_pose_estimation(\n",
        "      **run_pose_estimation_params\n",
        "  )\n",
        "      \n",
        "except Exception as e:\n",
        "    print('Aborted!')\n",
        "    print('Please check the parameters in the form and re-run \"Generate Parameters\".')"
      ]
    },
    {
      "cell_type": "markdown",
      "metadata": {
        "id": "W8pSrewDiPNT"
      },
      "source": [
        "##Tests"
      ]
    },
    {
      "cell_type": "markdown",
      "metadata": {
        "id": "n5L3Z5YVrZ2R"
      },
      "source": [
        "### Detect poses on a test video"
      ]
    },
    {
      "cell_type": "markdown",
      "metadata": {
        "id": "S9vzX4hL-b1G"
      },
      "source": [
        "Download video from Dropbox\n",
        "\n",
        "The Link to the Dropbox folder is https://www.dropbox.com/sh/fcbe7ebrvuutfgh/AACAe78sSZRMjFhJQAq1wM-Ra?dl=0 . To use a specific video, navigate to the respective subfolder on Dropbox, right-click on the video and choose \"copy link location\". Then paste in the \"videolink\" field below.  \n",
        "\n"
      ]
    },
    {
      "cell_type": "code",
      "execution_count": null,
      "metadata": {
        "id": "nti6B7afhW4c"
      },
      "outputs": [],
      "source": [
        "#@title Paste link to video here { display-mode: \"form\" }\n",
        "videolink=\"https://www.dropbox.com/sh/fcbe7ebrvuutfgh/AABIpUxn2jSq_el0OpdDifXha/Apoorva_experiment_clips/Apoorva_raga_8_muted.mp4?dl=0\"#@param {type:\"string\"}"
      ]
    },
    {
      "cell_type": "code",
      "execution_count": null,
      "metadata": {
        "cellView": "form",
        "id": "68q44LJN-uxK"
      },
      "outputs": [],
      "source": [
        "#@title\n",
        "!rm -rf full_video.mp4\n",
        "\n",
        "!wget -O full_video.mp4 $videolink "
      ]
    },
    {
      "cell_type": "markdown",
      "metadata": {
        "id": "Kn08K-3bp-W9"
      },
      "source": [
        "Access the video, cut the first 5 seconds and do the pose detection on that 5 seconds:"
      ]
    },
    {
      "cell_type": "code",
      "execution_count": null,
      "metadata": {
        "cellView": "form",
        "id": "oNASdyyiO65I"
      },
      "outputs": [],
      "source": [
        "#@title\n",
        "!rm -rf video.mp4\n",
        "# cut the first 5 seconds\n",
        "!ffmpeg -y -loglevel info -i \"full_video.mp4\" -t 5 video.mp4\n",
        "# detect poses on the these 5 seconds\n",
        "!rm -f openpose.avi\n",
        "!cd openpose && ./build/examples/openpose/openpose.bin --video ../video.mp4 --write_json ./output/ --display 0 --part-candidates --write_video ../openpose.avi\n",
        "# convert the result into MP4\n",
        "!ffmpeg -y -loglevel info -i openpose.avi output.mp4"
      ]
    },
    {
      "cell_type": "markdown",
      "metadata": {
        "id": "kDDkgCCSrFTv"
      },
      "source": [
        "Display the video created by OpenPose:"
      ]
    },
    {
      "cell_type": "code",
      "execution_count": null,
      "metadata": {
        "id": "nZ3Ud9zLgOoQ"
      },
      "outputs": [],
      "source": [
        "show_local_mp4_video('output.mp4', width=960, height=720)"
      ]
    }
  ],
  "metadata": {
    "accelerator": "GPU",
    "colab": {
      "collapsed_sections": [],
      "include_colab_link": true,
      "name": "RagaPoseEstimationColab.ipynb",
      "provenance": [],
      "toc_visible": true
    },
    "kernelspec": {
      "display_name": "Python 3",
      "language": "python",
      "name": "python3"
    },
    "language_info": {
      "codemirror_mode": {
        "name": "ipython",
        "version": 3
      },
      "file_extension": ".py",
      "mimetype": "text/x-python",
      "name": "python",
      "nbconvert_exporter": "python",
      "pygments_lexer": "ipython3",
      "version": "3.8.9 (default, Oct 26 2021, 07:25:53) \n[Clang 13.0.0 (clang-1300.0.29.30)]"
    },
    "vscode": {
      "interpreter": {
        "hash": "31f2aee4e71d21fbe5cf8b01ff0e069b9275f58929596ceb00d14d90e3e16cd6"
      }
    }
  },
  "nbformat": 4,
  "nbformat_minor": 0
}
