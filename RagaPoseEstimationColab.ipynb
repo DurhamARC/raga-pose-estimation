{
  "cells": [
    {
      "cell_type": "markdown",
      "metadata": {
        "colab_type": "text",
        "id": "view-in-github"
      },
      "source": [
        "<a href=\"https://colab.research.google.com/github/DurhamARC/raga-pose-estimation/blob/jo-branch/RagaPoseEstimationColab.ipynb\"\n",
        "target=\"_parent\"><img src=\"https://colab.research.google.com/assets/colab-badge.svg\" alt=\"Open In Colab\"/></a>"
      ]
    },
    {
      "cell_type": "markdown",
      "metadata": {
        "id": "X38L6tanrnrB"
      },
      "source": [
        "# Pose Detection with OpenPose\n",
        "\n",
        "This notebook uses an open source project [CMU-Perceptual-Computing-Lab/openpose](https://github.com/CMU-Perceptual-Computing-Lab/openpose.git) to detect/track multi person poses on a given video.\n",
        "\n",
        "Please read the [OpenPose license](https://github.com/CMU-Perceptual-Computing-Lab/openpose/blob/master/LICENSE) before running this script.\n"
      ]
    },
    {
      "cell_type": "markdown",
      "metadata": {
        "id": "bbYVjlJikDEW"
      },
      "source": [
        "##Install OpenPose"
      ]
    },
    {
      "cell_type": "code",
      "execution_count": 5,
      "metadata": {
        "cellView": "form",
        "id": "FOdkDhb6ga6N"
      },
      "outputs": [
        {
          "ename": "IndentationError",
          "evalue": "unindent does not match any outer indentation level (<tokenize>, line 13)",
          "output_type": "error",
          "traceback": [
            "\u001b[0;36m  File \u001b[0;32m\"<tokenize>\"\u001b[0;36m, line \u001b[0;32m13\u001b[0m\n\u001b[0;31m    </video>'''.format(width, height, video_encoded.decode('ascii')))\u001b[0m\n\u001b[0m    ^\u001b[0m\n\u001b[0;31mIndentationError\u001b[0m\u001b[0;31m:\u001b[0m unindent does not match any outer indentation level\n"
          ]
        }
      ],
      "source": [
        "'''#@title\n",
        "!pip install ffmpeg-python\n",
        "import os\n",
        "from os.path import exists, join, basename, splitext\n",
        "\n",
        "def show_local_mp4_video(file_name, width=640, height=480):\n",
        "  import io\n",
        "  import base64\n",
        "  from IPython.display import HTML\n",
        "  video_encoded = base64.b64encode(io.open(file_name, 'rb').read())\n",
        "  return HTML(data='''<video width=\"{0}\" height=\"{1}\" alt=\"test\" controls>\n",
        "                        <source src=\"data:video/mp4;base64,{2}\" type=\"video/mp4\" />\n",
        "                      </video>'''.format(width, height, video_encoded.decode('ascii'))) \n",
        "\n",
        "\n",
        "git_repo_url = 'https://github.com/CMU-Perceptual-Computing-Lab/openpose.git'\n",
        "project_name = splitext(basename(git_repo_url))[0]\n",
        "!rm -rf openpose\n",
        "if not exists(project_name):\n",
        "  # see: https://github.com/CMU-Perceptual-Computing-Lab/openpose/issues/949\n",
        "  # install new CMake becaue of CUDA10\n",
        "  !wget -q https://cmake.org/files/v3.17/cmake-3.17.2-Linux-x86_64.tar.gz\n",
        "  !tar xfz cmake-3.17.2-Linux-x86_64.tar.gz --strip-components=1 -C /usr/local\n",
        "  # clone openpose\n",
        "  !git clone -q --depth 1 $git_repo_url\n",
        "  # --recursive necessary in the line below, as otherwise you can (sometimes) get \"lpthreads\" errors in cmake (\"undefined reference to `pthread_create'\" etc). See, for example, https://github.com/facebookarchive/caffe2/issues/1234\n",
        "  !sed -i 's/execute_process(COMMAND git checkout --recursive master WORKING_DIRECTORY ${CMAKE_SOURCE_DIR}\\/3rdparty\\/caffe)/execute_process(COMMAND git checkout f019d0dfe86f49d1140961f8c7dec22130c83154 WORKING_DIRECTORY ${CMAKE_SOURCE_DIR}\\/3rdparty\\/caffe)/g' openpose/CMakeLists.txt\n",
        "  !cd openpose && git submodule update --init --recursive --remote\n",
        "  # install system dependencies\n",
        "  !apt-get -qq install -y libatlas-base-dev libprotobuf-dev libleveldb-dev libsnappy-dev libhdf5-serial-dev protobuf-compiler libgflags-dev libgoogle-glog-dev liblmdb-dev opencl-headers ocl-icd-opencl-dev libviennacl-dev\n",
        "  # build openpose\n",
        "  # CUDA\n",
        "  !cd openpose && rm -rf build || true && mkdir build && cd build && cmake .. && make -j`nproc` \n",
        "  !cd openpose && rm -rf build || true && mkdir build && cd build && cmake .. && make -j`nproc` \n",
        "  # CPU \n",
        "  #!cd openpose && rm -rf build || true && mkdir build && cd build && cmake -DGPU_MODE=CPU_ONLY -DUSE_MKL=OFF .. && make -j`nproc`'''"
      ]
    },
    {
      "cell_type": "markdown",
      "metadata": {
        "id": "UPIohYCy_zO9"
      },
      "source": [
        "Workaround for server problem (run if you see `file DOWNLOAD HASH mismatch` in the previous output):"
      ]
    },
    {
      "cell_type": "code",
      "execution_count": 6,
      "metadata": {
        "cellView": "form",
        "id": "bRRMCiq9_4UE"
      },
      "outputs": [
        {
          "name": "stdout",
          "output_type": "stream",
          "text": [
            "zsh:1: command not found: apt-get\n",
            "WARNING: combining -O with -r or -p will mean that all downloaded content\n",
            "will be placed in the single file you specified.\n",
            "\n",
            "--2022-11-23 12:58:16--  https://drive.google.com/uc?id=1QCSxJZpnWvM00hx49CJ2zky7PWGzpcEh&export=download\n",
            "Resolving drive.google.com (drive.google.com)... 142.250.178.14\n",
            "Connecting to drive.google.com (drive.google.com)|142.250.178.14|:443... connected.\n",
            "HTTP request sent, awaiting response... 200 OK\n",
            "Length: unspecified [text/html]\n",
            "Saving to: ‘models.zip’\n",
            "\n",
            "models.zip              [ <=>                ]   2.21K  --.-KB/s    in 0s      \n",
            "\n",
            "2022-11-23 12:58:16 (25.4 MB/s) - ‘models.zip’ saved [2261]\n",
            "\n",
            "Loading robots.txt; please ignore errors.\n",
            "--2022-11-23 12:58:16--  https://drive.google.com/robots.txt\n",
            "Reusing existing connection to drive.google.com:443.\n",
            "HTTP request sent, awaiting response... 200 OK\n",
            "Length: unspecified [text/plain]\n",
            "Saving to: ‘models.zip’\n",
            "\n",
            "models.zip              [ <=>                ]     570  --.-KB/s    in 0s      \n",
            "\n",
            "2022-11-23 12:58:16 (36.2 MB/s) - ‘models.zip’ saved [570]\n",
            "\n",
            "--2022-11-23 12:58:16--  https://drive.google.com/null\n",
            "Reusing existing connection to drive.google.com:443.\n",
            "HTTP request sent, awaiting response... 302 Moved Temporarily\n",
            "Location: /start [following]\n",
            "--2022-11-23 12:58:16--  https://drive.google.com/start\n",
            "Reusing existing connection to drive.google.com:443.\n",
            "HTTP request sent, awaiting response... 301 Moved Permanently\n",
            "Location: https://www.google.com/drive/ [following]\n",
            "--2022-11-23 12:58:16--  https://www.google.com/drive/\n",
            "Resolving www.google.com (www.google.com)... 142.250.178.4\n",
            "Connecting to www.google.com (www.google.com)|142.250.178.4|:443... connected.\n",
            "HTTP request sent, awaiting response... 200 OK\n",
            "Length: 95926 (94K) [text/html]\n",
            "Saving to: ‘models.zip’\n",
            "\n",
            "models.zip          100%[===================>]  93.68K  --.-KB/s    in 0.04s   \n",
            "\n",
            "2022-11-23 12:58:17 (2.44 MB/s) - ‘models.zip’ saved [95926/95926]\n",
            "\n",
            "--2022-11-23 12:58:17--  https://drive.google.com/open?id=1QCSxJZpnWvM00hx49CJ2zky7PWGzpcEh\n",
            "Connecting to drive.google.com (drive.google.com)|142.250.178.14|:443... connected.\n",
            "HTTP request sent, awaiting response... 307 Temporary Redirect\n",
            "Location: https://drive.google.com/file/d/1QCSxJZpnWvM00hx49CJ2zky7PWGzpcEh/view?usp=drive_open [following]\n",
            "--2022-11-23 12:58:17--  https://drive.google.com/file/d/1QCSxJZpnWvM00hx49CJ2zky7PWGzpcEh/view?usp=drive_open\n",
            "Reusing existing connection to drive.google.com:443.\n",
            "HTTP request sent, awaiting response... 200 OK\n",
            "Length: unspecified [text/html]\n",
            "Saving to: ‘models.zip’\n",
            "\n",
            "models.zip              [ <=>                ]  72.88K  --.-KB/s    in 0.03s   \n",
            "\n",
            "2022-11-23 12:58:17 (2.63 MB/s) - ‘models.zip’ saved [74625]\n",
            "\n",
            "--2022-11-23 12:58:17--  https://drive.google.com/file/d/1QCSxJZpnWvM00hx49CJ2zky7PWGzpcEh/null\n",
            "Reusing existing connection to drive.google.com:443.\n",
            "HTTP request sent, awaiting response... 404 Not Found\n",
            "2022-11-23 12:58:18 ERROR 404: Not Found.\n",
            "\n",
            "--2022-11-23 12:58:18--  https://drive.google.com/drive/static/css/drive-new.min.css\n",
            "Reusing existing connection to drive.google.com:443.\n",
            "HTTP request sent, awaiting response... 404 Not Found\n",
            "2022-11-23 12:58:18 ERROR 404: Not Found.\n",
            "\n",
            "--2022-11-23 12:58:18--  https://drive.google.com/drive/\n",
            "Reusing existing connection to drive.google.com:443.\n",
            "HTTP request sent, awaiting response... 302 Found\n",
            "Location: https://accounts.google.com/ServiceLogin?service=wise&passive=1209600&osid=1&continue=https://drive.google.com/drive/&followup=https://drive.google.com/drive/&emr=1 [following]\n",
            "--2022-11-23 12:58:18--  https://accounts.google.com/ServiceLogin?service=wise&passive=1209600&osid=1&continue=https://drive.google.com/drive/&followup=https://drive.google.com/drive/&emr=1\n",
            "Resolving accounts.google.com (accounts.google.com)... 142.250.179.237\n",
            "Connecting to accounts.google.com (accounts.google.com)|142.250.179.237|:443... connected.\n",
            "HTTP request sent, awaiting response... 302 Moved Temporarily\n",
            "Location: https://accounts.google.com/v3/signin/identifier?dsh=S-2029119512%3A1669208298345992&continue=https%3A%2F%2Fdrive.google.com%2Fdrive%2F&emr=1&followup=https%3A%2F%2Fdrive.google.com%2Fdrive%2F&osid=1&passive=1209600&service=wise&flowName=WebLiteSignIn&flowEntry=ServiceLogin&ifkv=ARgdvAu_336_-RslRRXH3msVAkI6WJGKbrDWHEp9aJheVvGUjwgBAOBK5jyJXauA1NuQ7Fj1pPvpww [following]\n",
            "--2022-11-23 12:58:18--  https://accounts.google.com/v3/signin/identifier?dsh=S-2029119512%3A1669208298345992&continue=https%3A%2F%2Fdrive.google.com%2Fdrive%2F&emr=1&followup=https%3A%2F%2Fdrive.google.com%2Fdrive%2F&osid=1&passive=1209600&service=wise&flowName=WebLiteSignIn&flowEntry=ServiceLogin&ifkv=ARgdvAu_336_-RslRRXH3msVAkI6WJGKbrDWHEp9aJheVvGUjwgBAOBK5jyJXauA1NuQ7Fj1pPvpww\n",
            "Reusing existing connection to accounts.google.com:443.\n",
            "HTTP request sent, awaiting response... 200 OK\n",
            "Length: unspecified [text/html]\n",
            "Saving to: ‘models.zip’\n",
            "\n",
            "models.zip              [ <=>                ] 138.64K  --.-KB/s    in 0.05s   \n",
            "\n",
            "2022-11-23 12:58:18 (2.49 MB/s) - ‘models.zip’ saved [141968]\n",
            "\n",
            "--2022-11-23 12:58:18--  https://drive.google.com/docs/about/?hl=en\n",
            "Connecting to drive.google.com (drive.google.com)|142.250.178.14|:443... connected.\n",
            "HTTP request sent, awaiting response... 302 Moved Temporarily\n",
            "Location: /start [following]\n",
            "--2022-11-23 12:58:18--  https://drive.google.com/start\n",
            "Reusing existing connection to drive.google.com:443.\n",
            "HTTP request sent, awaiting response... 301 Moved Permanently\n",
            "Location: https://www.google.com/drive/ [following]\n",
            "--2022-11-23 12:58:18--  https://www.google.com/drive/\n",
            "Connecting to www.google.com (www.google.com)|142.250.178.4|:443... connected.\n",
            "HTTP request sent, awaiting response... 200 OK\n",
            "Length: 95926 (94K) [text/html]\n",
            "Saving to: ‘models.zip’\n",
            "\n",
            "models.zip          100%[===================>]  93.68K  --.-KB/s    in 0.04s   \n",
            "\n",
            "2022-11-23 12:58:18 (2.51 MB/s) - ‘models.zip’ saved [95926/95926]\n",
            "\n",
            "--2022-11-23 12:58:18--  https://drive.google.com/sheets/about/?hl=en\n",
            "Connecting to drive.google.com (drive.google.com)|142.250.178.14|:443... connected.\n",
            "HTTP request sent, awaiting response... 302 Moved Temporarily\n",
            "Location: /start [following]\n",
            "--2022-11-23 12:58:18--  https://drive.google.com/start\n",
            "Reusing existing connection to drive.google.com:443.\n",
            "HTTP request sent, awaiting response... 301 Moved Permanently\n",
            "Location: https://www.google.com/drive/ [following]\n",
            "--2022-11-23 12:58:18--  https://www.google.com/drive/\n",
            "Connecting to www.google.com (www.google.com)|142.250.178.4|:443... connected.\n",
            "HTTP request sent, awaiting response... 200 OK\n",
            "Length: 95926 (94K) [text/html]\n",
            "Saving to: ‘models.zip’\n",
            "\n",
            "models.zip          100%[===================>]  93.68K  --.-KB/s    in 0.03s   \n",
            "\n",
            "2022-11-23 12:58:19 (2.68 MB/s) - ‘models.zip’ saved [95926/95926]\n",
            "\n",
            "--2022-11-23 12:58:19--  https://drive.google.com/slides/about/?hl=en\n",
            "Connecting to drive.google.com (drive.google.com)|142.250.178.14|:443... connected.\n",
            "HTTP request sent, awaiting response... 302 Moved Temporarily\n",
            "Location: /start [following]\n",
            "--2022-11-23 12:58:19--  https://drive.google.com/start\n",
            "Reusing existing connection to drive.google.com:443.\n",
            "HTTP request sent, awaiting response... 301 Moved Permanently\n",
            "Location: https://www.google.com/drive/ [following]\n",
            "--2022-11-23 12:58:19--  https://www.google.com/drive/\n",
            "Connecting to www.google.com (www.google.com)|142.250.178.4|:443... connected.\n",
            "HTTP request sent, awaiting response... 200 OK\n",
            "Length: 95926 (94K) [text/html]\n",
            "Saving to: ‘models.zip’\n",
            "\n",
            "models.zip          100%[===================>]  93.68K  --.-KB/s    in 0.03s   \n",
            "\n",
            "2022-11-23 12:58:19 (2.65 MB/s) - ‘models.zip’ saved [95926/95926]\n",
            "\n",
            "--2022-11-23 12:58:19--  https://drive.google.com/forms/about/?hl=en\n",
            "Connecting to drive.google.com (drive.google.com)|142.250.178.14|:443... connected.\n",
            "HTTP request sent, awaiting response... 404 Not Found\n",
            "2022-11-23 12:58:19 ERROR 404: Not Found.\n",
            "\n",
            "--2022-11-23 12:58:19--  https://drive.google.com/drive/static/js/drive-new.min.js\n",
            "Reusing existing connection to drive.google.com:443.\n",
            "HTTP request sent, awaiting response... 404 Not Found\n",
            "2022-11-23 12:58:19 ERROR 404: Not Found.\n",
            "\n",
            "FINISHED --2022-11-23 12:58:19--\n",
            "Total wall clock time: 3.4s\n",
            "Downloaded: 8 files, 589K in 0.2s (2.57 MB/s)\n",
            "Archive:  models.zip\n",
            "  End-of-central-directory signature not found.  Either this file is not\n",
            "  a zipfile, or it constitutes one disk of a multi-part archive.  In the\n",
            "  latter case the central directory and zipfile comment will be found on\n",
            "  the last disk(s) of this archive.\n",
            "unzip:  cannot find zipfile directory in one of models.zip or\n",
            "        models.zip.zip, and cannot find models.zip.ZIP, period.\n"
          ]
        }
      ],
      "source": [
        "#@title\n",
        "# Workaround for server connection problem (\"file DOWNLOAD HASH mismatch\"),see, e.g., \n",
        "# https://github.com/CMU-Perceptual-Computing-Lab/openpose/issues/1602#issuecomment-641653411\n",
        "\n",
        "!apt-get install unzip\n",
        "\n",
        "!wget -O models.zip  --no-check-certificate -r 'https://drive.google.com/uc?id=1QCSxJZpnWvM00hx49CJ2zky7PWGzpcEh&export=download'\n",
        "!unzip -o models.zip -d openpose"
      ]
    },
    {
      "cell_type": "markdown",
      "metadata": {
        "id": "9xY_jBRwLu3-"
      },
      "source": [
        "## Processing\n",
        "Optionally run OpenPose, then do post-processing which can include visualisations.\n",
        "\n"
      ]
    },
    {
      "cell_type": "markdown",
      "metadata": {
        "id": "8DP9toALJerm"
      },
      "source": [
        "### Preparation\n",
        "\n",
        "Check out the raga-pose-estimation module from github."
      ]
    },
    {
      "cell_type": "code",
      "execution_count": 7,
      "metadata": {
        "cellView": "form",
        "colab": {
          "base_uri": "https://localhost:8080/"
        },
        "id": "BVOZz1sqV1KU",
        "outputId": "70384d97-4fe2-423a-ce08-74775a64856a",
        "scrolled": true
      },
      "outputs": [
        {
          "name": "stdout",
          "output_type": "stream",
          "text": [
            "fatal: destination path 'raga-pose-estimation' already exists and is not an empty directory.\n",
            "Already on 'master'\n",
            "Your branch is up to date with 'origin/master'.\n"
          ]
        }
      ],
      "source": [
        "!git clone https://github.com/DurhamARC/raga-pose-estimation.git raga-pose-estimation\n",
        "\n",
        "branch = input('Enter the branch to check out (defaults to jo-branch): ') or 'jo-branch'\n",
        "!cd raga-pose-estimation && git checkout $branch"
      ]
    },
    {
      "cell_type": "markdown",
      "metadata": {
        "id": "vSu5LSLWJW8R"
      },
      "source": [
        "### Upload files\n",
        "\n",
        "If your video or JSON files are not available via a public URL, use the Files menu on the left to upload them. You can then copy their path by hovering, clicking on the three dots, and selecting **Copy path**."
      ]
    },
    {
      "cell_type": "markdown",
      "metadata": {
        "id": "OtZZCloD1HUp"
      },
      "source": [
        "### Process\n",
        "\n",
        "The next cell generates a form which you can use to run OpenPose on a video followed by post-processing, or just do the post-processing on a directory of JSON files produced by OpenPose.\n",
        "\n",
        "#### Options\n",
        "\n",
        "| Option  |  Description |\n",
        "|---|---|\n",
        "| Output directory | Path to the directory in which to output CSV |\n",
        "| OpenPose directory | Path to the directory in which openpose is installed. |\n",
        "| OpenPose arguments | Additional arguments to pass to OpenPose. See the [OpenPose flags](https://github.com/CMU-Perceptual-Computing-Lab/openpose/blob/master/include/openpose/flags.hpp) for details. |\n",
        "| Input video | Path to the video file on which to run openpose.<br>Can be a remote URL, e.g. from the [Dropbox folder](https://www.dropbox.com/sh/fcbe7ebrvuutfgh/AACAe78sSZRMjFhJQAq1wM-Ra?dl=0).<br>To use a specific video, navigate to the respective subfolder on Dropbox, right-click on the video and choose \"copy link location\". Then paste in the field below. |\n",
        "| Crop video | Whether to crop the video before processing. |\n",
        "| Crop width<br>Crop height<br>Crop top left x<br>Crop top left y | Parameters for cropping the video before processing.<br>(x,y) are the coordinates of the top-left of the cropped rectangle, as measured in pixels from the top-left corner.<br>You can click **Preview Crop** to preview the crop rectangle on the first frame of the video. |\n",
        "| Input JSON | Path to a directory of previously generated openpose JSON files.<br>Can be a remote URL to a zipped file. |\n",
        "| Number of people | Number of people to include in output |\n",
        "| Create model video | Whether to create a video showing the poses on a blank background |\n",
        "| Create overlay video | Whether to create a video showing the poses as an overlay |\n",
        "| Download results | Whether to download the zipped results |\n",
        "| width | Width of original video (mandatory for creating video if  not providing input-video) |\n",
        "| height | Height of original video (mandatory for creating video if  not providing input-video) |\n",
        "| Confidence threshold | Items with a confidence lower than the threshold will be replaced by values from a previous frame. |\n",
        "| Smoothing parameters | If set, applies a smoother to the OpenPose output. <br>(See [README](README.md) for more details.) |\n",
        "| Group of body parts to analyse | Group of body parts to include in output.<br>If \"Choose...\" is selected you will be able to select the individual parts in *Body parts to analyse* |\n",
        "| Body parts to analyse | Body parts to include in output. Use `Ctrl` or `Cmd` to select multiple. |\n",
        "| Flatten |Export CSV in flattened format, i.e. with a single header row.<br>(See [README](README.md) for more details.) |\n",
        "\n",
        "Run the first cell to generate a form. Once you have filled in the form, click \"Generate parameters\", then run the next cell.\n"
      ]
    },
    {
      "cell_type": "code",
      "execution_count": 8,
      "metadata": {
        "cellView": "form",
        "id": "9YtiQc0Hz5ag"
      },
      "outputs": [
        {
          "name": "stderr",
          "output_type": "stream",
          "text": [
            "/Users/joannesheppard/Documents/raga-pose-estimation/ragaenv/lib/python3.7/site-packages/google/colab/data_table.py:30: UserWarning: IPython.utils.traitlets has moved to a top-level traitlets package.\n",
            "  from IPython.utils import traitlets as _traitlets\n"
          ]
        },
        {
          "data": {
            "application/vnd.jupyter.widget-view+json": {
              "model_id": "ae9ca4f9ff6d4eebbe337884139ec6be",
              "version_major": 2,
              "version_minor": 0
            },
            "text/plain": [
              "VBox(children=(Text(value='output/2022-11-23_125829', description='Output directory', layout=Layout(width='400…"
            ]
          },
          "metadata": {},
          "output_type": "display_data"
        }
      ],
      "source": [
        "#@title\n",
        "from datetime import datetime\n",
        "import os\n",
        "import sys\n",
        "import tempfile\n",
        "import urllib\n",
        "import urllib.request\n",
        "\n",
        "import cv2\n",
        "from google.colab import files, output\n",
        "from google.colab.patches import cv2_imshow\n",
        "import ipywidgets as widgets\n",
        "\n",
        "sys.path.append(os.path.join(os.getcwd(), 'raga-pose-estimation'))\n",
        "\n",
        "import run_pose_estimation\n",
        "\n",
        "from raga_pose_estimation.openpose_parts import (\n",
        "    OpenPosePartGroups,\n",
        "    OpenPoseParts,\n",
        ")\n",
        "\n",
        "def default_dirname(prefix='output'):\n",
        "    dirname = datetime.now().strftime('%Y-%m-%d_%H%M%S')\n",
        "    return f'{prefix}/{dirname}'\n",
        "\n",
        "output_dir = default_dirname()\n",
        "\n",
        "style = {'description_width': '200px'}\n",
        "layout = {'width': '400px'}\n",
        "\n",
        "items = {\n",
        "    'output_dir': widgets.Text(\n",
        "        value=output_dir,\n",
        "        description='Output directory',\n",
        "        style=style, \n",
        "        layout=layout\n",
        "    ),\n",
        "    'openpose_dir': widgets.Text(\n",
        "        value='openpose',\n",
        "        description='OpenPose directory',\n",
        "        style=style, \n",
        "        layout=layout\n",
        "    ),\n",
        "    'openpose_args': widgets.Text(\n",
        "        value='',\n",
        "        description='Additional OpenPose arguments',\n",
        "        style=style, \n",
        "        layout=layout\n",
        "    ),\n",
        "    'input_video': widgets.Text(\n",
        "        value='',\n",
        "        description='Input video',\n",
        "        style=style, \n",
        "        layout=layout\n",
        "    ),\n",
        "    'crop_video': widgets.Checkbox(\n",
        "        value=False,\n",
        "        description='Crop video',\n",
        "        style=style,\n",
        "        layout=layout\n",
        "    ),\n",
        "    'crop_video_w': widgets.BoundedIntText(\n",
        "        value=None,\n",
        "        description='Crop width',\n",
        "        style=style, \n",
        "        layout=layout,\n",
        "        disabled=True,\n",
        "        min=1,\n",
        "        max=100000\n",
        "    ),\n",
        "    'crop_video_h': widgets.BoundedIntText(\n",
        "        value=None,\n",
        "        description='Crop height',\n",
        "        style=style, \n",
        "        layout=layout,\n",
        "        disabled=True,\n",
        "        min=1,\n",
        "        max=100000\n",
        "    ),\n",
        "    'crop_video_x': widgets.BoundedIntText(\n",
        "        value=None,\n",
        "        description='Crop top left x',\n",
        "        style=style, \n",
        "        layout=layout,\n",
        "        disabled=True,\n",
        "        min=0,\n",
        "        max=100000\n",
        "    ),\n",
        "    'crop_video_y': widgets.BoundedIntText(\n",
        "        value=None,\n",
        "        description='Crop top left y',\n",
        "        style=style, \n",
        "        layout=layout,\n",
        "        disabled=True,\n",
        "        min=0,\n",
        "        max=100000\n",
        "    ),\n",
        "    'crop_preview': widgets.Button(\n",
        "        value=None,\n",
        "        description='Preview crop',\n",
        "        style=style, \n",
        "        layout=layout\n",
        "    ),\n",
        "    'input_json': widgets.Text(\n",
        "        value='',\n",
        "        description='Input JSON',\n",
        "        style=style, \n",
        "        layout=layout\n",
        "    ),\n",
        "    'number_of_people': widgets.IntSlider(\n",
        "        value=1,\n",
        "        min=1,\n",
        "        max=10,\n",
        "        step=1,\n",
        "        description='Number of people',\n",
        "        style=style, \n",
        "        layout=layout\n",
        "    ),\n",
        "    'performer_names': widgets.Text(\n",
        "        value=[\"April\", \"Ben\", \"Charlie\"],\n",
        "        description='Performer Names',\n",
        "        style=style, \n",
        "        layout=layout\n",
        "    ),\n",
        "    'create_model_video': widgets.Checkbox(\n",
        "        value=False,\n",
        "        description='Create model video',\n",
        "        style=style, \n",
        "        layout=layout\n",
        "    ),\n",
        "    'create_overlay_video': widgets.Checkbox(\n",
        "        value=False,\n",
        "        description='Create overlay video',\n",
        "        style=style, \n",
        "        layout=layout\n",
        "    ),\n",
        "    'download_results': widgets.Checkbox(\n",
        "        value=False,\n",
        "        description='Download results',\n",
        "        style=style, \n",
        "        layout=layout\n",
        "    ),\n",
        "    'width': widgets.IntText(\n",
        "        value=0,\n",
        "        description='Width of video',\n",
        "        style=style\n",
        "    ),\n",
        "    'height': widgets.IntText(\n",
        "        value=0,\n",
        "        description='Height of video',\n",
        "        style=style\n",
        "    ),\n",
        "    'confidence_threshold': widgets.FloatSlider(\n",
        "        value=0.7,\n",
        "        min=0,\n",
        "        max=1.0,\n",
        "        step=0.05,\n",
        "        description='Confidence Threshold',\n",
        "        style=style, \n",
        "        layout=layout\n",
        "    ),\n",
        "    'apply_smoother': widgets.Checkbox(\n",
        "        value=True,\n",
        "        description='Apply smoother',\n",
        "        style=style, \n",
        "        layout=layout\n",
        "    ),\n",
        "    'smoothing_window': widgets.IntSlider(\n",
        "        value=21,\n",
        "        min=1,\n",
        "        max=51,\n",
        "        step=2,\n",
        "        description='Smoothing window',\n",
        "        style=style, \n",
        "        layout=layout\n",
        "    ),\n",
        "    'smoothing_polyorder': widgets.IntSlider(\n",
        "        value=2,\n",
        "        min=1,\n",
        "        max=12,\n",
        "        step=1,\n",
        "        description='Smoothing polynomial order',\n",
        "        style=style, \n",
        "        layout=layout\n",
        "    ),\n",
        "    'body_part_group': widgets.RadioButtons(\n",
        "        options=[\n",
        "            ('All', list(OpenPoseParts)),\n",
        "            ('Upper', OpenPosePartGroups.UPPER_BODY_PARTS),\n",
        "            ('Lower', OpenPosePartGroups.LOWER_BODY_PARTS),\n",
        "            ('Choose...', [])\n",
        "        ],\n",
        "        value=list(OpenPoseParts),\n",
        "        description='Group of body parts to analyse',\n",
        "        disabled=False,\n",
        "        style=style, \n",
        "        layout=layout\n",
        "    ),\n",
        "    'body_parts': widgets.SelectMultiple(\n",
        "        options=[(x.value, x) for x in list(OpenPoseParts)],\n",
        "        value=list(OpenPoseParts),\n",
        "        description='Body parts to analyse',\n",
        "        disabled=True,\n",
        "        style=style, \n",
        "        layout=layout\n",
        "    ),\n",
        "    'flatten': widgets.Checkbox(\n",
        "        value=False,\n",
        "        description='Flatten CSV output',\n",
        "        style=style, \n",
        "        layout=layout\n",
        "    ),\n",
        "    'run': widgets.Button(\n",
        "        description='Generate parameters',\n",
        "        disabled=False,\n",
        "        style=style,\n",
        "        layout=layout,\n",
        "        tooltip='Generate parameters for openpose or post-processing',\n",
        "        icon='check'\n",
        "    ),\n",
        "    'trial_no': widgets.Text(\n",
        "        value='',\n",
        "        description='Trial Number',\n",
        "        style=style, \n",
        "        layout=layout\n",
        "    ),\n",
        "    'output': widgets.Output(layout={'border': '1px solid gray'})\n",
        "}\n",
        "\n",
        "def update_body_parts(*args):\n",
        "    if items['body_part_group'].value == []:\n",
        "        items['body_parts'].disabled = False\n",
        "    else:\n",
        "        items['body_parts'].disabled = True\n",
        "        items['body_parts'].value = items['body_part_group'].value\n",
        "\n",
        "def update_smoother(*args):\n",
        "    if items['apply_smoother'].value == True:\n",
        "        items['smoothing_window'].disabled = False\n",
        "        items['smoothing_polyorder'].disabled = False\n",
        "    else:\n",
        "        items['smoothing_window'].disabled = True\n",
        "        items['smoothing_polyorder'].disabled = True\n",
        "\n",
        "def get_input_path(path_or_url, compressed=False):\n",
        "    if path_or_url is None:\n",
        "        return None\n",
        "    \n",
        "    parsed = urllib.parse.urlparse(path_or_url)\n",
        "    input_dir = default_dirname('input')\n",
        "\n",
        "    if parsed.scheme == \"\":\n",
        "        filepath = path_or_url\n",
        "    else:\n",
        "        print(parsed.query)\n",
        "        if parsed.query == 'dl=0':\n",
        "            # Dropbox URL - change to dl=1 to download directly\n",
        "            replaced = parsed._replace(query='dl=1')\n",
        "            path_or_url = urllib.parse.urlunparse(replaced)\n",
        "\n",
        "        print(f\"Retrieving file from {path_or_url}\")\n",
        "        filename = parsed.path.rsplit('/', 1)[1]\n",
        "        os.makedirs(input_dir, exist_ok=True)\n",
        "        filepath = f\"{input_dir}/{filename}\"\n",
        "        urllib.request.urlretrieve(path_or_url, filepath)\n",
        "\n",
        "    if compressed:\n",
        "        os.makedirs(input_dir, exist_ok=True) \n",
        "        with file(filepath,'r') as f:\n",
        "          if zipfile.is_zipfile(f):\n",
        "              zip = zipfile.ZipFile(f)\n",
        "              zip.extractall(input_dir)\n",
        "              filepath = input_dir\n",
        "\n",
        "    return filepath\n",
        "  \n",
        "def update_crop_params(*args):\n",
        "    if items['crop_video'].value == True:\n",
        "        items['crop_video_w'].disabled = False\n",
        "        items['crop_video_h'].disabled = False\n",
        "        items['crop_video_x'].disabled = False\n",
        "        items['crop_video_y'].disabled = False\n",
        "        items['crop_preview'].disabled = False\n",
        "    else:\n",
        "        items['crop_video_w'].disabled = True\n",
        "        items['crop_video_h'].disabled = True\n",
        "        items['crop_video_x'].disabled = True\n",
        "        items['crop_video_y'].disabled = True\n",
        "        items['crop_preview'].disabled = True\n",
        "\n",
        "def preview_crop(*args):\n",
        "  output.clear()\n",
        "  display(ui)\n",
        "  input_video = get_input_path(items['input_video'].value or None)\n",
        "  crop_video = items['crop_video'].value\n",
        "  w = items['crop_video_w'].value\n",
        "  h = items['crop_video_h'].value\n",
        "  x = items['crop_video_x'].value\n",
        "  y = items['crop_video_y'].value\n",
        "    \n",
        "  if input_video and crop_video:\n",
        "    cap = cv2.VideoCapture(input_video)\n",
        "    ret, frame = cap.read()\n",
        "    cap.release()\n",
        "    frame = cv2.rectangle(frame,(x, y),(x+w,y+h),(0,255,0),2)\n",
        "    cv2_imshow(frame)\n",
        "\n",
        "\n",
        "run_pose_estimation_params = {}\n",
        "\n",
        "def on_button_clicked(b):\n",
        "    global run_pose_estimation_params\n",
        "    items['output'].clear_output()\n",
        "    with items['output']:\n",
        "        try:\n",
        "            if not items['output_dir'].value:\n",
        "                print(\"You must select an output directory.\")\n",
        "            else:\n",
        "                input_video = get_input_path(items['input_video'].value or None)\n",
        "                input_json = get_input_path(items['input_json'].value or None)\n",
        "                smoothing_parameters = None\n",
        "                if items['apply_smoother'].value == True:\n",
        "                  smoothing_parameters = (items['smoothing_window'].value,\n",
        "                                          items['smoothing_polyorder'].value)\n",
        "                \n",
        "                crop_rectangle = None\n",
        "                if items['crop_video'].value:\n",
        "                  crop_rectangle = (\n",
        "                      items['crop_video_w'].value,\n",
        "                      items['crop_video_h'].value,\n",
        "                      items['crop_video_x'].value,\n",
        "                      items['crop_video_y'].value\n",
        "                  )\n",
        "\n",
        "                run_pose_estimation_params = {\n",
        "                    'output_dir': items['output_dir'].value,\n",
        "                    'openpose_dir': items['openpose_dir'].value or None,\n",
        "                    'openpose_args': items['openpose_args'].value or None,\n",
        "                    'input_video': input_video,\n",
        "                    'input_json': input_json,\n",
        "                    'crop_rectangle': crop_rectangle,\n",
        "                    'number_of_people': items['number_of_people'].value,\n",
        "                    'create_model_video': items['create_model_video'].value,\n",
        "                    'create_overlay_video': items['create_overlay_video'].value,\n",
        "                    'width': items['width'].value,\n",
        "                    'height': items['height'].value,\n",
        "                    'confidence_threshold': items['confidence_threshold'].value,\n",
        "                    'smoothing_parameters': smoothing_parameters,\n",
        "                    'body_parts': items['body_parts'].value,\n",
        "                    'flatten': items['flatten'].value,\n",
        "                    'trial_no': items['trial_no'].value,\n",
        "                    'performer_names': items['performer_names'].value\n",
        "                }\n",
        "                print(\"Parameters saved. Run the next cell to execute run_pose_estimation.\")\n",
        "        except SystemExit:\n",
        "            print('Aborted.')\n",
        "    \n",
        "items['body_part_group'].observe(update_body_parts, 'value')\n",
        "items['apply_smoother'].observe(update_smoother, 'value')\n",
        "items['crop_video'].observe(update_crop_params, 'value')\n",
        "items['crop_preview'].on_click(preview_crop)\n",
        "items['run'].on_click(on_button_clicked)\n",
        "\n",
        "ui = widgets.VBox(list(items.values()))\n",
        "display(ui)\n"
      ]
    },
    {
      "cell_type": "markdown",
      "metadata": {
        "id": "KuU8DUZx7NBg"
      },
      "source": [
        "Run the next cell to run openpose/post-processing."
      ]
    },
    {
      "cell_type": "code",
      "execution_count": null,
      "metadata": {
        "cellView": "form",
        "id": "cqvk3MNErRLm"
      },
      "outputs": [],
      "source": [
        "#@title\n",
        "print(\"Running openpose/post-processing...\")\n",
        "try:\n",
        "  # Run openpose\n",
        "  run_pose_estimation.run_pose_estimation(\n",
        "      **run_pose_estimation_params\n",
        "  )\n",
        "except Exception as e:\n",
        "  print('OpenPose Checkpoint')\n",
        "\n",
        "try:\n",
        "  output_dir = items['output_dir'].value\n",
        "\n",
        "except Exception as e:\n",
        "  print('Output Directory Checkpoint')\n",
        "\n",
        "try:\n",
        "  # Download outputs\n",
        "  zip_file = f\"{output_dir}.zip\"\n",
        "  !zip -r $zip_file $output_dir\n",
        "  print(f'Created zip archive at {zip_file}')\n",
        "\n",
        "  if(items['download_results'].value):\n",
        "      files.download(zip_file)\n",
        "\n",
        "  # Update output dir if using the default\n",
        "  new_output_dir = default_dirname()\n",
        "  if items['output_dir'].value.startswith(new_output_dir[:11]):\n",
        "      items['output_dir'].value = new_output_dir\n",
        "\n",
        "except Exception as e:\n",
        "  print('Zip Checkpoint')\n",
        "\n",
        "'''except Exception as e:\n",
        "  print('Aborted!')\n",
        "  print('Please check the parameters in the form and re-run \"Generate Parameters\".')'''\n"
      ]
    },
    {
      "cell_type": "markdown",
      "metadata": {
        "id": "tzgj4gjyIOgo"
      },
      "source": [
        "### Download output\n",
        "\n",
        "Use the Files menu on the left to find the folder you'd like to download, then use the three dots button and click **Copy path**. Run the next cell, and paste the path in the input box. The cell will create a zip file which you can download from the Files menu."
      ]
    },
    {
      "cell_type": "code",
      "execution_count": 16,
      "metadata": {
        "cellView": "form",
        "id": "bmR6qZV3IOGy"
      },
      "outputs": [
        {
          "name": "stdout",
          "output_type": "stream",
          "text": [
            "  adding: Users/joannesheppard/Documents/raga-pose-estimation/example_files/example_1person/short_video.mp4 (deflated 0%)\n",
            "Created file /Users/joannesheppard/Documents/raga-pose-estimation/example_files/example_1person/short_video.mp4.zip. Use the files menu on the left to download it. You may need to refresh the files first.\n"
          ]
        }
      ],
      "source": [
        "#@title\n",
        "dirname = input('Path to download: ')\n",
        "zip_file = f\"{dirname}.zip\"\n",
        "\n",
        "!zip -r $zip_file $dirname \n",
        "\n",
        "print(f\"Created file {zip_file}. Use the files menu on the left to download it. You may need to refresh the files first.\")"
      ]
    },
    {
      "cell_type": "markdown",
      "metadata": {
        "id": "6MxjeCSgzweZ"
      },
      "source": [
        "Alternative way of downloading results:"
      ]
    },
    {
      "cell_type": "code",
      "execution_count": 17,
      "metadata": {
        "cellView": "form",
        "id": "EMesibDxCtpD"
      },
      "outputs": [
        {
          "ename": "KeyError",
          "evalue": "'CLOUDSDK_CONFIG'",
          "output_type": "error",
          "traceback": [
            "\u001b[0;31m---------------------------------------------------------------------------\u001b[0m",
            "\u001b[0;31mKeyError\u001b[0m                                  Traceback (most recent call last)",
            "\u001b[0;32m/var/folders/t8/z1wfk4ks0ps5rq77yf7bvfsc0000gn/T/ipykernel_5241/1310714262.py\u001b[0m in \u001b[0;36m<module>\u001b[0;34m\u001b[0m\n\u001b[1;32m      4\u001b[0m \u001b[0;32mfrom\u001b[0m \u001b[0mgoogle\u001b[0m\u001b[0;34m.\u001b[0m\u001b[0mcolab\u001b[0m \u001b[0;32mimport\u001b[0m \u001b[0mdrive\u001b[0m\u001b[0;34m\u001b[0m\u001b[0;34m\u001b[0m\u001b[0m\n\u001b[1;32m      5\u001b[0m \u001b[0;34m\u001b[0m\u001b[0m\n\u001b[0;32m----> 6\u001b[0;31m \u001b[0mdrive\u001b[0m\u001b[0;34m.\u001b[0m\u001b[0mmount\u001b[0m\u001b[0;34m(\u001b[0m\u001b[0;34m'/content/drive'\u001b[0m\u001b[0;34m)\u001b[0m\u001b[0;34m\u001b[0m\u001b[0;34m\u001b[0m\u001b[0m\n\u001b[0m\u001b[1;32m      7\u001b[0m \u001b[0;34m\u001b[0m\u001b[0m\n\u001b[1;32m      8\u001b[0m \u001b[0moutput_dir\u001b[0m \u001b[0;34m=\u001b[0m \u001b[0;34m\"output\"\u001b[0m\u001b[0;34m\u001b[0m\u001b[0;34m\u001b[0m\u001b[0m\n",
            "\u001b[0;32m~/Documents/raga-pose-estimation/ragaenv/lib/python3.7/site-packages/google/colab/drive.py\u001b[0m in \u001b[0;36mmount\u001b[0;34m(mountpoint, force_remount, timeout_ms)\u001b[0m\n\u001b[1;32m     80\u001b[0m     \u001b[0;32mreturn\u001b[0m\u001b[0;34m\u001b[0m\u001b[0;34m\u001b[0m\u001b[0m\n\u001b[1;32m     81\u001b[0m \u001b[0;34m\u001b[0m\u001b[0m\n\u001b[0;32m---> 82\u001b[0;31m   \u001b[0menv\u001b[0m \u001b[0;34m=\u001b[0m \u001b[0m_env\u001b[0m\u001b[0;34m(\u001b[0m\u001b[0;34m)\u001b[0m\u001b[0;34m\u001b[0m\u001b[0;34m\u001b[0m\u001b[0m\n\u001b[0m\u001b[1;32m     83\u001b[0m   \u001b[0mhome\u001b[0m \u001b[0;34m=\u001b[0m \u001b[0menv\u001b[0m\u001b[0;34m.\u001b[0m\u001b[0mhome\u001b[0m\u001b[0;34m\u001b[0m\u001b[0;34m\u001b[0m\u001b[0m\n\u001b[1;32m     84\u001b[0m   \u001b[0mroot_dir\u001b[0m \u001b[0;34m=\u001b[0m \u001b[0menv\u001b[0m\u001b[0;34m.\u001b[0m\u001b[0mroot_dir\u001b[0m\u001b[0;34m\u001b[0m\u001b[0;34m\u001b[0m\u001b[0m\n",
            "\u001b[0;32m~/Documents/raga-pose-estimation/ragaenv/lib/python3.7/site-packages/google/colab/drive.py\u001b[0m in \u001b[0;36m_env\u001b[0;34m()\u001b[0m\n\u001b[1;32m     41\u001b[0m   \u001b[0mhome\u001b[0m \u001b[0;34m=\u001b[0m \u001b[0m_os\u001b[0m\u001b[0;34m.\u001b[0m\u001b[0menviron\u001b[0m\u001b[0;34m[\u001b[0m\u001b[0;34m'HOME'\u001b[0m\u001b[0;34m]\u001b[0m\u001b[0;34m\u001b[0m\u001b[0;34m\u001b[0m\u001b[0m\n\u001b[1;32m     42\u001b[0m   root_dir = _os.path.realpath(\n\u001b[0;32m---> 43\u001b[0;31m       _os.path.join(_os.environ['CLOUDSDK_CONFIG'], '../..'))\n\u001b[0m\u001b[1;32m     44\u001b[0m   \u001b[0minet_family\u001b[0m \u001b[0;34m=\u001b[0m \u001b[0;34m'IPV4_ONLY'\u001b[0m\u001b[0;34m\u001b[0m\u001b[0;34m\u001b[0m\u001b[0m\n\u001b[1;32m     45\u001b[0m   \u001b[0mdev\u001b[0m \u001b[0;34m=\u001b[0m \u001b[0;34m'/dev/fuse'\u001b[0m\u001b[0;34m\u001b[0m\u001b[0;34m\u001b[0m\u001b[0m\n",
            "\u001b[0;32m/Library/Frameworks/Python.framework/Versions/3.7/lib/python3.7/os.py\u001b[0m in \u001b[0;36m__getitem__\u001b[0;34m(self, key)\u001b[0m\n\u001b[1;32m    677\u001b[0m         \u001b[0;32mexcept\u001b[0m \u001b[0mKeyError\u001b[0m\u001b[0;34m:\u001b[0m\u001b[0;34m\u001b[0m\u001b[0;34m\u001b[0m\u001b[0m\n\u001b[1;32m    678\u001b[0m             \u001b[0;31m# raise KeyError with the original key value\u001b[0m\u001b[0;34m\u001b[0m\u001b[0;34m\u001b[0m\u001b[0;34m\u001b[0m\u001b[0m\n\u001b[0;32m--> 679\u001b[0;31m             \u001b[0;32mraise\u001b[0m \u001b[0mKeyError\u001b[0m\u001b[0;34m(\u001b[0m\u001b[0mkey\u001b[0m\u001b[0;34m)\u001b[0m \u001b[0;32mfrom\u001b[0m \u001b[0;32mNone\u001b[0m\u001b[0;34m\u001b[0m\u001b[0;34m\u001b[0m\u001b[0m\n\u001b[0m\u001b[1;32m    680\u001b[0m         \u001b[0;32mreturn\u001b[0m \u001b[0mself\u001b[0m\u001b[0;34m.\u001b[0m\u001b[0mdecodevalue\u001b[0m\u001b[0;34m(\u001b[0m\u001b[0mvalue\u001b[0m\u001b[0;34m)\u001b[0m\u001b[0;34m\u001b[0m\u001b[0;34m\u001b[0m\u001b[0m\n\u001b[1;32m    681\u001b[0m \u001b[0;34m\u001b[0m\u001b[0m\n",
            "\u001b[0;31mKeyError\u001b[0m: 'CLOUDSDK_CONFIG'"
          ]
        }
      ],
      "source": [
        "'''#@title\n",
        "from datetime import datetime\n",
        "\n",
        "from google.colab import drive\n",
        "\n",
        "drive.mount('/content/drive')\n",
        "\n",
        "output_dir = \"output\"\n",
        "zip_file = f\"{output_dir}.zip\"\n",
        "!zip -r $zip_file $output_dir\n",
        "!mv '/content/output.zip' \"/content/drive/My Drive/`date +%Y-%m-%d_%H%M%S`.zip\"\n",
        "\n",
        "!echo \"Copy of output folder moved to Drive\"'''\n"
      ]
    },
    {
      "cell_type": "markdown",
      "metadata": {
        "id": "gHD2sm_M0Yo9"
      },
      "source": [
        "### View videos\n",
        "Convert the avis to mp4s so they can be seen here."
      ]
    },
    {
      "cell_type": "code",
      "execution_count": 18,
      "metadata": {
        "id": "MjEQsAr2z5ak"
      },
      "outputs": [
        {
          "name": "stdout",
          "output_type": "stream",
          "text": [
            "ffmpeg version 5.1.2 Copyright (c) 2000-2022 the FFmpeg developers\n",
            "  built with Apple clang version 14.0.0 (clang-1400.0.29.102)\n",
            "  configuration: --prefix=/opt/homebrew/Cellar/ffmpeg/5.1.2 --enable-shared --enable-pthreads --enable-version3 --cc=clang --host-cflags= --host-ldflags= --enable-ffplay --enable-gnutls --enable-gpl --enable-libaom --enable-libbluray --enable-libdav1d --enable-libmp3lame --enable-libopus --enable-librav1e --enable-librist --enable-librubberband --enable-libsnappy --enable-libsrt --enable-libtesseract --enable-libtheora --enable-libvidstab --enable-libvmaf --enable-libvorbis --enable-libvpx --enable-libwebp --enable-libx264 --enable-libx265 --enable-libxml2 --enable-libxvid --enable-lzma --enable-libfontconfig --enable-libfreetype --enable-frei0r --enable-libass --enable-libopencore-amrnb --enable-libopencore-amrwb --enable-libopenjpeg --enable-libspeex --enable-libsoxr --enable-libzmq --enable-libzimg --disable-libjack --disable-indev=jack --enable-videotoolbox --enable-neon\n",
            "  libavutil      57. 28.100 / 57. 28.100\n",
            "  libavcodec     59. 37.100 / 59. 37.100\n",
            "  libavformat    59. 27.100 / 59. 27.100\n",
            "  libavdevice    59.  7.100 / 59.  7.100\n",
            "  libavfilter     8. 44.100 /  8. 44.100\n",
            "  libswscale      6.  7.100 /  6.  7.100\n",
            "  libswresample   4.  7.100 /  4.  7.100\n",
            "  libpostproc    56.  6.100 / 56.  6.100\n",
            "\u001b[1;31moutput/2022-11-16_150727/video_blank.avi: No such file or directory\n",
            "\u001b[0mffmpeg version 5.1.2 Copyright (c) 2000-2022 the FFmpeg developers\n",
            "  built with Apple clang version 14.0.0 (clang-1400.0.29.102)\n",
            "  configuration: --prefix=/opt/homebrew/Cellar/ffmpeg/5.1.2 --enable-shared --enable-pthreads --enable-version3 --cc=clang --host-cflags= --host-ldflags= --enable-ffplay --enable-gnutls --enable-gpl --enable-libaom --enable-libbluray --enable-libdav1d --enable-libmp3lame --enable-libopus --enable-librav1e --enable-librist --enable-librubberband --enable-libsnappy --enable-libsrt --enable-libtesseract --enable-libtheora --enable-libvidstab --enable-libvmaf --enable-libvorbis --enable-libvpx --enable-libwebp --enable-libx264 --enable-libx265 --enable-libxml2 --enable-libxvid --enable-lzma --enable-libfontconfig --enable-libfreetype --enable-frei0r --enable-libass --enable-libopencore-amrnb --enable-libopencore-amrwb --enable-libopenjpeg --enable-libspeex --enable-libsoxr --enable-libzmq --enable-libzimg --disable-libjack --disable-indev=jack --enable-videotoolbox --enable-neon\n",
            "  libavutil      57. 28.100 / 57. 28.100\n",
            "  libavcodec     59. 37.100 / 59. 37.100\n",
            "  libavformat    59. 27.100 / 59. 27.100\n",
            "  libavdevice    59.  7.100 / 59.  7.100\n",
            "  libavfilter     8. 44.100 /  8. 44.100\n",
            "  libswscale      6.  7.100 /  6.  7.100\n",
            "  libswresample   4.  7.100 /  4.  7.100\n",
            "  libpostproc    56.  6.100 / 56.  6.100\n",
            "\u001b[1;31moutput/2022-11-16_150727/video_overlay.avi: No such file or directory\n",
            "\u001b[0m"
          ]
        }
      ],
      "source": [
        "!ffmpeg -y -loglevel info -i $output_dir/video_blank.avi $output_dir/video_blank.mp4\n",
        "!ffmpeg -y -loglevel info -i $output_dir/video_overlay.avi $output_dir/video_overlay.mp4"
      ]
    },
    {
      "cell_type": "markdown",
      "metadata": {
        "id": "y4sRZ14z0j9-"
      },
      "source": [
        "Display the visualisation as a model on a blank background:"
      ]
    },
    {
      "cell_type": "code",
      "execution_count": null,
      "metadata": {
        "id": "tKLiw4M2z5an"
      },
      "outputs": [],
      "source": [
        "show_local_mp4_video(f'{output_dir}/video_blank.mp4', width=768, height=576)"
      ]
    },
    {
      "cell_type": "markdown",
      "metadata": {
        "id": "9sK5mPR2bYH9"
      },
      "source": [
        "Next display the visualisation as an overlay:"
      ]
    },
    {
      "cell_type": "code",
      "execution_count": 19,
      "metadata": {
        "id": "864laeqWbHph"
      },
      "outputs": [
        {
          "ename": "FileNotFoundError",
          "evalue": "[Errno 2] No such file or directory: 'output/2022-11-16_150727/video_overlay.mp4'",
          "output_type": "error",
          "traceback": [
            "\u001b[0;31m---------------------------------------------------------------------------\u001b[0m",
            "\u001b[0;31mFileNotFoundError\u001b[0m                         Traceback (most recent call last)",
            "\u001b[0;32m/var/folders/t8/z1wfk4ks0ps5rq77yf7bvfsc0000gn/T/ipykernel_5241/3813055760.py\u001b[0m in \u001b[0;36m<module>\u001b[0;34m\u001b[0m\n\u001b[0;32m----> 1\u001b[0;31m \u001b[0mshow_local_mp4_video\u001b[0m\u001b[0;34m(\u001b[0m\u001b[0;34mf'{output_dir}/video_overlay.mp4'\u001b[0m\u001b[0;34m,\u001b[0m \u001b[0mwidth\u001b[0m\u001b[0;34m=\u001b[0m\u001b[0;36m768\u001b[0m\u001b[0;34m,\u001b[0m \u001b[0mheight\u001b[0m\u001b[0;34m=\u001b[0m\u001b[0;36m576\u001b[0m\u001b[0;34m)\u001b[0m\u001b[0;34m\u001b[0m\u001b[0;34m\u001b[0m\u001b[0m\n\u001b[0m",
            "\u001b[0;32m/var/folders/t8/z1wfk4ks0ps5rq77yf7bvfsc0000gn/T/ipykernel_5241/1221984165.py\u001b[0m in \u001b[0;36mshow_local_mp4_video\u001b[0;34m(file_name, width, height)\u001b[0m\n\u001b[1;32m      8\u001b[0m   \u001b[0;32mimport\u001b[0m \u001b[0mbase64\u001b[0m\u001b[0;34m\u001b[0m\u001b[0;34m\u001b[0m\u001b[0m\n\u001b[1;32m      9\u001b[0m   \u001b[0;32mfrom\u001b[0m \u001b[0mIPython\u001b[0m\u001b[0;34m.\u001b[0m\u001b[0mdisplay\u001b[0m \u001b[0;32mimport\u001b[0m \u001b[0mHTML\u001b[0m\u001b[0;34m\u001b[0m\u001b[0;34m\u001b[0m\u001b[0m\n\u001b[0;32m---> 10\u001b[0;31m   \u001b[0mvideo_encoded\u001b[0m \u001b[0;34m=\u001b[0m \u001b[0mbase64\u001b[0m\u001b[0;34m.\u001b[0m\u001b[0mb64encode\u001b[0m\u001b[0;34m(\u001b[0m\u001b[0mio\u001b[0m\u001b[0;34m.\u001b[0m\u001b[0mopen\u001b[0m\u001b[0;34m(\u001b[0m\u001b[0mfile_name\u001b[0m\u001b[0;34m,\u001b[0m \u001b[0;34m'rb'\u001b[0m\u001b[0;34m)\u001b[0m\u001b[0;34m.\u001b[0m\u001b[0mread\u001b[0m\u001b[0;34m(\u001b[0m\u001b[0;34m)\u001b[0m\u001b[0;34m)\u001b[0m\u001b[0;34m\u001b[0m\u001b[0;34m\u001b[0m\u001b[0m\n\u001b[0m\u001b[1;32m     11\u001b[0m   return HTML(data='''<video width=\"{0}\" height=\"{1}\" alt=\"test\" controls>\n\u001b[1;32m     12\u001b[0m                         \u001b[0;34m<\u001b[0m\u001b[0msource\u001b[0m \u001b[0msrc\u001b[0m\u001b[0;34m=\u001b[0m\u001b[0;34m\"data:video/mp4;base64,{2}\"\u001b[0m \u001b[0mtype\u001b[0m\u001b[0;34m=\u001b[0m\u001b[0;34m\"video/mp4\"\u001b[0m \u001b[0;34m/\u001b[0m\u001b[0;34m>\u001b[0m\u001b[0;34m\u001b[0m\u001b[0;34m\u001b[0m\u001b[0m\n",
            "\u001b[0;31mFileNotFoundError\u001b[0m: [Errno 2] No such file or directory: 'output/2022-11-16_150727/video_overlay.mp4'"
          ]
        }
      ],
      "source": [
        "show_local_mp4_video(f'{output_dir}/video_overlay.mp4', width=768, height=576)"
      ]
    },
    {
      "cell_type": "markdown",
      "metadata": {
        "id": "_ZVzApsJZoKl"
      },
      "source": [
        "### View CSV\n"
      ]
    },
    {
      "cell_type": "code",
      "execution_count": 20,
      "metadata": {
        "cellView": "form",
        "id": "-cAV-EtNZwqT"
      },
      "outputs": [
        {
          "ename": "NameError",
          "evalue": "name 'filepath' is not defined",
          "output_type": "error",
          "traceback": [
            "\u001b[0;31m---------------------------------------------------------------------------\u001b[0m",
            "\u001b[0;31mNameError\u001b[0m                                 Traceback (most recent call last)",
            "\u001b[0;32m/var/folders/t8/z1wfk4ks0ps5rq77yf7bvfsc0000gn/T/ipykernel_5241/1160066287.py\u001b[0m in \u001b[0;36m<module>\u001b[0;34m\u001b[0m\n\u001b[1;32m      7\u001b[0m   \u001b[0mdf\u001b[0m \u001b[0;34m=\u001b[0m \u001b[0mpd\u001b[0m\u001b[0;34m.\u001b[0m\u001b[0mread_csv\u001b[0m\u001b[0;34m(\u001b[0m\u001b[0mfilepath\u001b[0m\u001b[0;34m)\u001b[0m\u001b[0;34m\u001b[0m\u001b[0;34m\u001b[0m\u001b[0m\n\u001b[1;32m      8\u001b[0m \u001b[0;32melse\u001b[0m\u001b[0;34m:\u001b[0m\u001b[0;34m\u001b[0m\u001b[0;34m\u001b[0m\u001b[0m\n\u001b[0;32m----> 9\u001b[0;31m   \u001b[0mdf\u001b[0m \u001b[0;34m=\u001b[0m \u001b[0mpd\u001b[0m\u001b[0;34m.\u001b[0m\u001b[0mread_csv\u001b[0m\u001b[0;34m(\u001b[0m\u001b[0mfilepath\u001b[0m\u001b[0;34m,\u001b[0m \u001b[0mheader\u001b[0m\u001b[0;34m=\u001b[0m\u001b[0;34m[\u001b[0m\u001b[0;36m0\u001b[0m\u001b[0;34m,\u001b[0m\u001b[0;36m1\u001b[0m\u001b[0;34m]\u001b[0m\u001b[0;34m,\u001b[0m \u001b[0mindex_col\u001b[0m\u001b[0;34m=\u001b[0m\u001b[0;36m0\u001b[0m\u001b[0;34m)\u001b[0m\u001b[0;34m\u001b[0m\u001b[0;34m\u001b[0m\u001b[0m\n\u001b[0m\u001b[1;32m     10\u001b[0m \u001b[0;34m\u001b[0m\u001b[0m\n\u001b[1;32m     11\u001b[0m \u001b[0mdf\u001b[0m\u001b[0;34m\u001b[0m\u001b[0;34m\u001b[0m\u001b[0m\n",
            "\u001b[0;31mNameError\u001b[0m: name 'filepath' is not defined"
          ]
        }
      ],
      "source": [
        "#@title\n",
        "import pandas as pd\n",
        "\n",
        "dir = input('CSV file: ')\n",
        "flatten = input('CSV was flattened? (y/n):')\n",
        "if flatten.lower() == 'y':\n",
        "  df = pd.read_csv(filepath)\n",
        "else:\n",
        "  df = pd.read_csv(filepath, header=[0,1], index_col=0)\n",
        "\n",
        "df"
      ]
    },
    {
      "cell_type": "markdown",
      "metadata": {
        "id": "W8pSrewDiPNT"
      },
      "source": [
        "##Tests"
      ]
    },
    {
      "cell_type": "markdown",
      "metadata": {
        "id": "n5L3Z5YVrZ2R"
      },
      "source": [
        "### Detect poses on a test video"
      ]
    },
    {
      "cell_type": "markdown",
      "metadata": {
        "id": "S9vzX4hL-b1G"
      },
      "source": [
        "Download video from Dropbox\n",
        "\n",
        "The Link to the Dropbox folder is https://www.dropbox.com/sh/fcbe7ebrvuutfgh/AACAe78sSZRMjFhJQAq1wM-Ra?dl=0 . To use a specific video, navigate to the respective subfolder on Dropbox, right-click on the video and choose \"copy link location\". Then paste in the \"videolink\" field below.  \n",
        "\n"
      ]
    },
    {
      "cell_type": "code",
      "execution_count": null,
      "metadata": {
        "id": "nti6B7afhW4c"
      },
      "outputs": [],
      "source": [
        "#@title Paste link to video here { display-mode: \"form\" }\n",
        "videolink=\"https://www.dropbox.com/sh/fcbe7ebrvuutfgh/AABIpUxn2jSq_el0OpdDifXha/Apoorva_experiment_clips/Apoorva_raga_8_muted.mp4?dl=0\"#@param {type:\"string\"}"
      ]
    },
    {
      "cell_type": "code",
      "execution_count": null,
      "metadata": {
        "cellView": "form",
        "id": "68q44LJN-uxK"
      },
      "outputs": [],
      "source": [
        "#@title\n",
        "!rm -rf full_video.mp4\n",
        "\n",
        "!wget -O full_video.mp4 $videolink "
      ]
    },
    {
      "cell_type": "markdown",
      "metadata": {
        "id": "Kn08K-3bp-W9"
      },
      "source": [
        "Access the video, cut the first 5 seconds and do the pose detection on that 5 seconds:"
      ]
    },
    {
      "cell_type": "code",
      "execution_count": null,
      "metadata": {
        "cellView": "form",
        "id": "oNASdyyiO65I"
      },
      "outputs": [],
      "source": [
        "#@title\n",
        "!rm -rf video.mp4\n",
        "# cut the first 5 seconds\n",
        "!ffmpeg -y -loglevel info -i \"full_video.mp4\" -t 5 video.mp4\n",
        "# detect poses on the these 5 seconds\n",
        "!rm -f openpose.avi\n",
        "!cd openpose && ./build/examples/openpose/openpose.bin --video ../video.mp4 --write_json ./output/ --display 0 --part-candidates --write_video ../openpose.avi\n",
        "# convert the result into MP4\n",
        "!ffmpeg -y -loglevel info -i openpose.avi output.mp4"
      ]
    },
    {
      "cell_type": "markdown",
      "metadata": {
        "id": "kDDkgCCSrFTv"
      },
      "source": [
        "Display the video created by OpenPose:"
      ]
    },
    {
      "cell_type": "code",
      "execution_count": null,
      "metadata": {
        "id": "nZ3Ud9zLgOoQ"
      },
      "outputs": [],
      "source": [
        "show_local_mp4_video('output.mp4', width=960, height=720)"
      ]
    }
  ],
  "metadata": {
    "accelerator": "GPU",
    "colab": {
      "collapsed_sections": [],
      "include_colab_link": true,
      "name": "RagaPoseEstimationColab.ipynb",
      "provenance": [],
      "toc_visible": true
    },
    "kernelspec": {
      "display_name": "Python 3.7.6 ('ragaenv': venv)",
      "language": "python",
      "name": "python3"
    },
    "language_info": {
      "codemirror_mode": {
        "name": "ipython",
        "version": 3
      },
      "file_extension": ".py",
      "mimetype": "text/x-python",
      "name": "python",
      "nbconvert_exporter": "python",
      "pygments_lexer": "ipython3",
      "version": "3.7.6"
    },
    "vscode": {
      "interpreter": {
        "hash": "01cec9c70ae2c5c957ddd7883ed33b9c178e1333a6cf0c8945404f72f002438a"
      }
    }
  },
  "nbformat": 4,
  "nbformat_minor": 0
}
